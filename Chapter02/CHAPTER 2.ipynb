{
  "cells": [
    {
      "cell_type": "markdown",
      "metadata": {
        "id": "jMzH5mTXlwld"
      },
      "source": [
        "# Python Algorithmic Trading Cookbook"
      ]
    },
    {
      "cell_type": "markdown",
      "metadata": {
        "id": "lx32EIS3lwlf"
      },
      "source": [
        "## Chapter 2: Stock Markets: Primer on Trading"
      ]
    },
    {
      "cell_type": "markdown",
      "metadata": {
        "id": "WBHkY4fLlwlg"
      },
      "source": [
        "This Jupyter Notebook is created using Python version 3.8.2"
      ]
    },
    {
      "cell_type": "markdown",
      "metadata": {
        "id": "6YQwrzr7lwlg"
      },
      "source": [
        "----"
      ]
    },
    {
      "cell_type": "markdown",
      "metadata": {
        "id": "hpWRx1vMlwlg"
      },
      "source": [
        "### Requirements"
      ]
    },
    {
      "cell_type": "markdown",
      "metadata": {
        "id": "cKvIt9JLlwlh"
      },
      "source": [
        "You can install the requirements for this Jupyter Notebook by executing the below cell"
      ]
    },
    {
      "cell_type": "code",
      "execution_count": 1,
      "metadata": {
        "colab": {
          "base_uri": "https://localhost:8080/"
        },
        "id": "HCJ1R23Dlwlh",
        "outputId": "868be81b-22d7-4de3-80b2-859ec62ad2fe"
      },
      "outputs": [
        {
          "output_type": "stream",
          "name": "stdout",
          "text": [
            "Collecting pyalgotrading\n",
            "  Downloading pyalgotrading-2025.3.1-py3-none-any.whl.metadata (5.8 kB)\n",
            "Requirement already satisfied: requests>=2.24.0 in /usr/local/lib/python3.11/dist-packages (from pyalgotrading) (2.32.3)\n",
            "Requirement already satisfied: pandas>=0.25.3 in /usr/local/lib/python3.11/dist-packages (from pyalgotrading) (2.2.2)\n",
            "Requirement already satisfied: numpy>=1.23.2 in /usr/local/lib/python3.11/dist-packages (from pandas>=0.25.3->pyalgotrading) (2.0.2)\n",
            "Requirement already satisfied: python-dateutil>=2.8.2 in /usr/local/lib/python3.11/dist-packages (from pandas>=0.25.3->pyalgotrading) (2.9.0.post0)\n",
            "Requirement already satisfied: pytz>=2020.1 in /usr/local/lib/python3.11/dist-packages (from pandas>=0.25.3->pyalgotrading) (2025.2)\n",
            "Requirement already satisfied: tzdata>=2022.7 in /usr/local/lib/python3.11/dist-packages (from pandas>=0.25.3->pyalgotrading) (2025.2)\n",
            "Requirement already satisfied: charset-normalizer<4,>=2 in /usr/local/lib/python3.11/dist-packages (from requests>=2.24.0->pyalgotrading) (3.4.2)\n",
            "Requirement already satisfied: idna<4,>=2.5 in /usr/local/lib/python3.11/dist-packages (from requests>=2.24.0->pyalgotrading) (3.10)\n",
            "Requirement already satisfied: urllib3<3,>=1.21.1 in /usr/local/lib/python3.11/dist-packages (from requests>=2.24.0->pyalgotrading) (2.4.0)\n",
            "Requirement already satisfied: certifi>=2017.4.17 in /usr/local/lib/python3.11/dist-packages (from requests>=2.24.0->pyalgotrading) (2025.6.15)\n",
            "Requirement already satisfied: six>=1.5 in /usr/local/lib/python3.11/dist-packages (from python-dateutil>=2.8.2->pandas>=0.25.3->pyalgotrading) (1.17.0)\n",
            "Downloading pyalgotrading-2025.3.1-py3-none-any.whl (43 kB)\n",
            "\u001b[?25l   \u001b[90m━━━━━━━━━━━━━━━━━━━━━━━━━━━━━━━━━━━━━━━━\u001b[0m \u001b[32m0.0/43.3 kB\u001b[0m \u001b[31m?\u001b[0m eta \u001b[36m-:--:--\u001b[0m\r\u001b[2K   \u001b[90m━━━━━━━━━━━━━━━━━━━━━━━━━━━━━━━━━━━━━━━━\u001b[0m \u001b[32m43.3/43.3 kB\u001b[0m \u001b[31m3.3 MB/s\u001b[0m eta \u001b[36m0:00:00\u001b[0m\n",
            "\u001b[?25hInstalling collected packages: pyalgotrading\n",
            "Successfully installed pyalgotrading-2025.3.1\n"
          ]
        }
      ],
      "source": [
        "!pip install pyalgotrading"
      ]
    },
    {
      "cell_type": "markdown",
      "metadata": {
        "id": "8yO1mKc8lwli"
      },
      "source": [
        "----"
      ]
    },
    {
      "cell_type": "markdown",
      "metadata": {
        "id": "b0ePfHvzlwli"
      },
      "source": [
        "### Recipe 1: Setup Python connectivity with Broker"
      ]
    },
    {
      "cell_type": "code",
      "execution_count": 24,
      "metadata": {
        "collapsed": true,
        "id": "Gt_RCRyNlwlj"
      },
      "outputs": [],
      "source": [
        "# Get the api_key & api_secret from broker. These are unique to you & will be used by the broker to identify your demat account.\n",
        "#api_key = \"mgmg3j28b5ol7mtz\"\n",
        "#api_secret = \"2gvqx19p1g3ebnalp9gqlmsolmu0f501\"\n",
        "\n",
        "from kiteconnect import KiteConnect\n",
        "\n",
        "api_key = \"s5oyneqwnjpuv592\"\n",
        "api_secret = \"jz0yb8deky969mstt0rjlpczrc7pezig\"\n",
        "\n",
        "kite = KiteConnect(api_key=api_key)\n",
        "\n",
        "# broker_connection = BrokerConnectionZerodha(api_key, api_secret)"
      ]
    },
    {
      "cell_type": "code",
      "source": [
        "# After logging in and getting the request token from the redirect URL, replace \"<YOUR_REQUEST_TOKEN>\" with it.\n",
        " # https://kite.zerodha.com/connect/login?api_key=s5oyneqwnjpuv592&v=3 <-- get your token by loggin in to zerodha with this link\n",
        "request_token = \"WrGQgahvWn3FsxmnV07lzjcy1mLXR955\"\n",
        "data = kite.generate_session(request_token, api_secret=api_secret)\n",
        "access_token = data[\"access_token\"]\n",
        "\n",
        "# Set the access token\n",
        "kite.set_access_token(access_token)\n",
        "\n",
        "print(\"Successfully connected to KiteConnect!\")"
      ],
      "metadata": {
        "colab": {
          "base_uri": "https://localhost:8080/"
        },
        "id": "_EipdfNDslST",
        "outputId": "e6a3778f-1805-420d-ff28-1e10a96a59d3"
      },
      "execution_count": 28,
      "outputs": [
        {
          "output_type": "stream",
          "name": "stdout",
          "text": [
            "Successfully connected to KiteConnect!\n"
          ]
        }
      ]
    },
    {
      "cell_type": "code",
      "source": [
        "# Example: Fetching instrument details for a stock (e.g., TATASTEEL on NSE)\n",
        "try:\n",
        "    # instrument = kite.ltp(['NSE:TATASTEEL'])\n",
        "    holdings = kite.holdings()\n",
        "    print(\"\\nInstrument details for TATASTEEL:\")\n",
        "    print(holdings)\n",
        "    # print(instrument)\n",
        "except Exception as e:\n",
        "    print(f\"Error fetching instrument: {e}\")"
      ],
      "metadata": {
        "colab": {
          "base_uri": "https://localhost:8080/"
        },
        "id": "mgqH9iIbspw2",
        "outputId": "5e68b976-9ff0-4268-9ccf-7fbfc5a73f00"
      },
      "execution_count": 30,
      "outputs": [
        {
          "output_type": "stream",
          "name": "stdout",
          "text": [
            "[{'tradingsymbol': 'ONGC', 'exchange': 'NSE', 'instrument_token': 633601, 'isin': 'INE213A01029', 'product': 'CNC', 'price': 0, 'quantity': 5, 'used_quantity': 0, 't1_quantity': 0, 'realised_quantity': 5, 'authorised_quantity': 0, 'authorised_date': '2025-07-05 00:00:00', 'authorisation': {}, 'opening_quantity': 5, 'short_quantity': 0, 'collateral_quantity': 0, 'collateral_type': '', 'discrepancy': False, 'average_price': 198.9, 'last_price': 245.24, 'close_price': 244.05, 'pnl': 231.70000000000002, 'day_change': 1.1899999999999977, 'day_change_percentage': 0.4876049989756188, 'mtf': {'quantity': 0, 'used_quantity': 0, 'average_price': 0, 'value': 0, 'initial_margin': 0}}, {'tradingsymbol': 'TATAPOWER', 'exchange': 'NSE', 'instrument_token': 877057, 'isin': 'INE245A01021', 'product': 'CNC', 'price': 0, 'quantity': 3, 'used_quantity': 0, 't1_quantity': 0, 'realised_quantity': 3, 'authorised_quantity': 0, 'authorised_date': '2025-07-05 00:00:00', 'authorisation': {}, 'opening_quantity': 3, 'short_quantity': 0, 'collateral_quantity': 0, 'collateral_type': '', 'discrepancy': False, 'average_price': 344.7, 'last_price': 401, 'close_price': 399.9, 'pnl': 168.90000000000003, 'day_change': 1.1000000000000227, 'day_change_percentage': 0.2750687671918036, 'mtf': {'quantity': 0, 'used_quantity': 0, 'average_price': 0, 'value': 0, 'initial_margin': 0}}, {'tradingsymbol': 'TATASTEEL', 'exchange': 'NSE', 'instrument_token': 895745, 'isin': 'INE081A01020', 'product': 'CNC', 'price': 0, 'quantity': 20, 'used_quantity': 0, 't1_quantity': 0, 'realised_quantity': 20, 'authorised_quantity': 0, 'authorised_date': '2025-07-05 00:00:00', 'authorisation': {}, 'opening_quantity': 20, 'short_quantity': 0, 'collateral_quantity': 0, 'collateral_type': '', 'discrepancy': False, 'average_price': 151.2, 'last_price': 163.01, 'close_price': 165.91, 'pnl': 236.20000000000005, 'day_change': -2.9000000000000057, 'day_change_percentage': -1.7479356277499885, 'mtf': {'quantity': 0, 'used_quantity': 0, 'average_price': 0, 'value': 0, 'initial_margin': 0}}]\n",
            "\n",
            "Instrument details for TATASTEEL:\n"
          ]
        }
      ]
    },
    {
      "cell_type": "code",
      "execution_count": 17,
      "metadata": {
        "id": "fuvV9dVFlwli"
      },
      "outputs": [],
      "source": [
        "from pyalgotrading.broker.broker_connection_zerodha import BrokerConnectionZerodha"
      ]
    },
    {
      "cell_type": "code",
      "execution_count": null,
      "metadata": {
        "id": "KbbEdJJllwlk"
      },
      "outputs": [],
      "source": [
        "# Get the request token from the above URL\n",
        "#request_token = \"jk0XrSlk8KlRujZsGD7Fw3trfmIcdY62\"\n",
        "#broker_connection.set_access_token(request_token)"
      ]
    },
    {
      "cell_type": "markdown",
      "metadata": {
        "id": "sYQuo1o1lwll"
      },
      "source": [
        "### Recipe 2: Query list of Instruments"
      ]
    },
    {
      "cell_type": "code",
      "execution_count": null,
      "metadata": {
        "id": "VE_U1snClwll",
        "outputId": "2d5644ad-ec54-4975-80ab-6845b869b621"
      },
      "outputs": [
        {
          "data": {
            "text/html": [
              "<div>\n",
              "<style scoped>\n",
              "    .dataframe tbody tr th:only-of-type {\n",
              "        vertical-align: middle;\n",
              "    }\n",
              "\n",
              "    .dataframe tbody tr th {\n",
              "        vertical-align: top;\n",
              "    }\n",
              "\n",
              "    .dataframe thead th {\n",
              "        text-align: right;\n",
              "    }\n",
              "</style>\n",
              "<table border=\"1\" class=\"dataframe\">\n",
              "  <thead>\n",
              "    <tr style=\"text-align: right;\">\n",
              "      <th></th>\n",
              "      <th>instrument_token</th>\n",
              "      <th>exchange_token</th>\n",
              "      <th>tradingsymbol</th>\n",
              "      <th>name</th>\n",
              "      <th>last_price</th>\n",
              "      <th>expiry</th>\n",
              "      <th>strike</th>\n",
              "      <th>tick_size</th>\n",
              "      <th>lot_size</th>\n",
              "      <th>instrument_type</th>\n",
              "      <th>segment</th>\n",
              "      <th>exchange</th>\n",
              "    </tr>\n",
              "  </thead>\n",
              "  <tbody>\n",
              "    <tr>\n",
              "      <th>0</th>\n",
              "      <td>540584966</td>\n",
              "      <td>2111660</td>\n",
              "      <td>EURINR20DEC77.7500CE</td>\n",
              "      <td>EURINR</td>\n",
              "      <td>0.0</td>\n",
              "      <td>2020-12-29</td>\n",
              "      <td>77.75</td>\n",
              "      <td>0.0025</td>\n",
              "      <td>1</td>\n",
              "      <td>CE</td>\n",
              "      <td>BCD-OPT</td>\n",
              "      <td>BCD</td>\n",
              "    </tr>\n",
              "    <tr>\n",
              "      <th>1</th>\n",
              "      <td>540578822</td>\n",
              "      <td>2111636</td>\n",
              "      <td>EURINR20DEC77.7500PE</td>\n",
              "      <td>EURINR</td>\n",
              "      <td>0.0</td>\n",
              "      <td>2020-12-29</td>\n",
              "      <td>77.75</td>\n",
              "      <td>0.0025</td>\n",
              "      <td>1</td>\n",
              "      <td>PE</td>\n",
              "      <td>BCD-OPT</td>\n",
              "      <td>BCD</td>\n",
              "    </tr>\n",
              "    <tr>\n",
              "      <th>2</th>\n",
              "      <td>540512774</td>\n",
              "      <td>2111378</td>\n",
              "      <td>EURINR20DEC78.0000CE</td>\n",
              "      <td>EURINR</td>\n",
              "      <td>0.0</td>\n",
              "      <td>2020-12-29</td>\n",
              "      <td>78.00</td>\n",
              "      <td>0.0025</td>\n",
              "      <td>1</td>\n",
              "      <td>CE</td>\n",
              "      <td>BCD-OPT</td>\n",
              "      <td>BCD</td>\n",
              "    </tr>\n",
              "    <tr>\n",
              "      <th>3</th>\n",
              "      <td>540506374</td>\n",
              "      <td>2111353</td>\n",
              "      <td>EURINR20DEC78.0000PE</td>\n",
              "      <td>EURINR</td>\n",
              "      <td>0.0</td>\n",
              "      <td>2020-12-29</td>\n",
              "      <td>78.00</td>\n",
              "      <td>0.0025</td>\n",
              "      <td>1</td>\n",
              "      <td>PE</td>\n",
              "      <td>BCD-OPT</td>\n",
              "      <td>BCD</td>\n",
              "    </tr>\n",
              "    <tr>\n",
              "      <th>4</th>\n",
              "      <td>540627462</td>\n",
              "      <td>2111826</td>\n",
              "      <td>EURINR20DEC78.2500CE</td>\n",
              "      <td>EURINR</td>\n",
              "      <td>0.0</td>\n",
              "      <td>2020-12-29</td>\n",
              "      <td>78.25</td>\n",
              "      <td>0.0025</td>\n",
              "      <td>1</td>\n",
              "      <td>CE</td>\n",
              "      <td>BCD-OPT</td>\n",
              "      <td>BCD</td>\n",
              "    </tr>\n",
              "    <tr>\n",
              "      <th>...</th>\n",
              "      <td>...</td>\n",
              "      <td>...</td>\n",
              "      <td>...</td>\n",
              "      <td>...</td>\n",
              "      <td>...</td>\n",
              "      <td>...</td>\n",
              "      <td>...</td>\n",
              "      <td>...</td>\n",
              "      <td>...</td>\n",
              "      <td>...</td>\n",
              "      <td>...</td>\n",
              "      <td>...</td>\n",
              "    </tr>\n",
              "    <tr>\n",
              "      <th>65392</th>\n",
              "      <td>978945</td>\n",
              "      <td>3824</td>\n",
              "      <td>ZODJRDMKJ</td>\n",
              "      <td>ZODIAC JRD-MKJ</td>\n",
              "      <td>0.0</td>\n",
              "      <td></td>\n",
              "      <td>0.00</td>\n",
              "      <td>0.0500</td>\n",
              "      <td>1</td>\n",
              "      <td>EQ</td>\n",
              "      <td>NSE</td>\n",
              "      <td>NSE</td>\n",
              "    </tr>\n",
              "    <tr>\n",
              "      <th>65393</th>\n",
              "      <td>2916865</td>\n",
              "      <td>11394</td>\n",
              "      <td>ZOTA</td>\n",
              "      <td>ZOTA HEALTH CARE</td>\n",
              "      <td>0.0</td>\n",
              "      <td></td>\n",
              "      <td>0.00</td>\n",
              "      <td>0.0500</td>\n",
              "      <td>1</td>\n",
              "      <td>EQ</td>\n",
              "      <td>NSE</td>\n",
              "      <td>NSE</td>\n",
              "    </tr>\n",
              "    <tr>\n",
              "      <th>65394</th>\n",
              "      <td>7437825</td>\n",
              "      <td>29054</td>\n",
              "      <td>ZUARI-BE</td>\n",
              "      <td>ZUARI AGRO CHEMICALS</td>\n",
              "      <td>0.0</td>\n",
              "      <td></td>\n",
              "      <td>0.00</td>\n",
              "      <td>0.0500</td>\n",
              "      <td>1</td>\n",
              "      <td>EQ</td>\n",
              "      <td>NSE</td>\n",
              "      <td>NSE</td>\n",
              "    </tr>\n",
              "    <tr>\n",
              "      <th>65395</th>\n",
              "      <td>979713</td>\n",
              "      <td>3827</td>\n",
              "      <td>ZUARIGLOB</td>\n",
              "      <td>ZUARI GLOBAL</td>\n",
              "      <td>0.0</td>\n",
              "      <td></td>\n",
              "      <td>0.00</td>\n",
              "      <td>0.0500</td>\n",
              "      <td>1</td>\n",
              "      <td>EQ</td>\n",
              "      <td>NSE</td>\n",
              "      <td>NSE</td>\n",
              "    </tr>\n",
              "    <tr>\n",
              "      <th>65396</th>\n",
              "      <td>4514561</td>\n",
              "      <td>17635</td>\n",
              "      <td>ZYDUSWELL</td>\n",
              "      <td>ZYDUS WELLNESS</td>\n",
              "      <td>0.0</td>\n",
              "      <td></td>\n",
              "      <td>0.00</td>\n",
              "      <td>0.0500</td>\n",
              "      <td>1</td>\n",
              "      <td>EQ</td>\n",
              "      <td>NSE</td>\n",
              "      <td>NSE</td>\n",
              "    </tr>\n",
              "  </tbody>\n",
              "</table>\n",
              "<p>65397 rows × 12 columns</p>\n",
              "</div>"
            ],
            "text/plain": [
              "       instrument_token exchange_token         tradingsymbol  \\\n",
              "0             540584966        2111660  EURINR20DEC77.7500CE   \n",
              "1             540578822        2111636  EURINR20DEC77.7500PE   \n",
              "2             540512774        2111378  EURINR20DEC78.0000CE   \n",
              "3             540506374        2111353  EURINR20DEC78.0000PE   \n",
              "4             540627462        2111826  EURINR20DEC78.2500CE   \n",
              "...                 ...            ...                   ...   \n",
              "65392            978945           3824             ZODJRDMKJ   \n",
              "65393           2916865          11394                  ZOTA   \n",
              "65394           7437825          29054              ZUARI-BE   \n",
              "65395            979713           3827             ZUARIGLOB   \n",
              "65396           4514561          17635             ZYDUSWELL   \n",
              "\n",
              "                       name  last_price      expiry  strike  tick_size  \\\n",
              "0                    EURINR         0.0  2020-12-29   77.75     0.0025   \n",
              "1                    EURINR         0.0  2020-12-29   77.75     0.0025   \n",
              "2                    EURINR         0.0  2020-12-29   78.00     0.0025   \n",
              "3                    EURINR         0.0  2020-12-29   78.00     0.0025   \n",
              "4                    EURINR         0.0  2020-12-29   78.25     0.0025   \n",
              "...                     ...         ...         ...     ...        ...   \n",
              "65392        ZODIAC JRD-MKJ         0.0                0.00     0.0500   \n",
              "65393      ZOTA HEALTH CARE         0.0                0.00     0.0500   \n",
              "65394  ZUARI AGRO CHEMICALS         0.0                0.00     0.0500   \n",
              "65395          ZUARI GLOBAL         0.0                0.00     0.0500   \n",
              "65396        ZYDUS WELLNESS         0.0                0.00     0.0500   \n",
              "\n",
              "       lot_size instrument_type  segment exchange  \n",
              "0             1              CE  BCD-OPT      BCD  \n",
              "1             1              PE  BCD-OPT      BCD  \n",
              "2             1              CE  BCD-OPT      BCD  \n",
              "3             1              PE  BCD-OPT      BCD  \n",
              "4             1              CE  BCD-OPT      BCD  \n",
              "...         ...             ...      ...      ...  \n",
              "65392         1              EQ      NSE      NSE  \n",
              "65393         1              EQ      NSE      NSE  \n",
              "65394         1              EQ      NSE      NSE  \n",
              "65395         1              EQ      NSE      NSE  \n",
              "65396         1              EQ      NSE      NSE  \n",
              "\n",
              "[65397 rows x 12 columns]"
            ]
          },
          "execution_count": 4,
          "metadata": {},
          "output_type": "execute_result"
        }
      ],
      "source": [
        "instruments = broker_connection.get_all_instruments()\n",
        "instruments"
      ]
    },
    {
      "cell_type": "code",
      "execution_count": null,
      "metadata": {
        "id": "2ST1YrWglwlm",
        "outputId": "47c25ae7-aae5-46cd-e0ec-330e170b0f24"
      },
      "outputs": [
        {
          "name": "stdout",
          "output_type": "stream",
          "text": [
            "Total instruments: 65397\n"
          ]
        }
      ],
      "source": [
        "print(f'Total instruments: {len(instruments)}')"
      ]
    },
    {
      "cell_type": "markdown",
      "metadata": {
        "id": "mDOLcSrElwlm"
      },
      "source": [
        "### Recipe 3: Fetch an Instrument"
      ]
    },
    {
      "cell_type": "code",
      "execution_count": null,
      "metadata": {
        "id": "HnpC7XIClwlm",
        "outputId": "b9b1064a-1100-44cc-ca2c-595b891fc896"
      },
      "outputs": [
        {
          "data": {
            "text/plain": [
              "segment: NSE\n",
              "exchange: NSE\n",
              "tradingsymbol: TATASTEEL\n",
              "broker_token: 895745\n",
              "tick_size: 0.05\n",
              "lot_size: 1\n",
              "expiry: \n",
              "strike_price: 0.0"
            ]
          },
          "execution_count": 6,
          "metadata": {},
          "output_type": "execute_result"
        }
      ],
      "source": [
        "broker_connection.get_instrument(segment='NSE', tradingsymbol='TATASTEEL')"
      ]
    },
    {
      "cell_type": "markdown",
      "metadata": {
        "id": "3xN2kEiwlwln"
      },
      "source": [
        "### Recipe 4: Query list of Exchanges"
      ]
    },
    {
      "cell_type": "code",
      "execution_count": null,
      "metadata": {
        "id": "hpK-q607lwln",
        "outputId": "18479399-80d0-4217-9ded-96340b80f0ae"
      },
      "outputs": [
        {
          "name": "stdout",
          "output_type": "stream",
          "text": [
            "['BCD' 'BSE' 'NSE' 'CDS' 'MCX' 'NFO']\n"
          ]
        }
      ],
      "source": [
        "exchanges = instruments.exchange.unique()\n",
        "print(exchanges)"
      ]
    },
    {
      "cell_type": "markdown",
      "metadata": {
        "id": "m-ZmmQ8Plwln"
      },
      "source": [
        "### Recipe 5: Query list of Segments"
      ]
    },
    {
      "cell_type": "code",
      "execution_count": null,
      "metadata": {
        "id": "6dRUiIuzlwlo",
        "outputId": "7c2b4198-353a-4142-ff06-a5d6868f70aa"
      },
      "outputs": [
        {
          "name": "stdout",
          "output_type": "stream",
          "text": [
            "['BCD-OPT' 'BCD-FUT' 'BCD' 'BSE' 'INDICES' 'CDS-OPT' 'CDS-FUT' 'MCX-FUT'\n",
            " 'MCX-OPT' 'NFO-OPT' 'NFO-FUT' 'NSE']\n"
          ]
        }
      ],
      "source": [
        "segments = instruments.segment.unique()\n",
        "print(segments)"
      ]
    },
    {
      "cell_type": "markdown",
      "metadata": {
        "id": "lCjic_fnlwlo"
      },
      "source": [
        "### Recipe 6: Query support for Order Transaction Types, Order Types, Order Codes & Order Varieties"
      ]
    },
    {
      "cell_type": "code",
      "execution_count": null,
      "metadata": {
        "id": "sLRtFEfPlwlp"
      },
      "outputs": [],
      "source": [
        "from pyalgotrading.broker.broker_connection_zerodha import BrokerConnectionZerodha"
      ]
    },
    {
      "cell_type": "code",
      "execution_count": null,
      "metadata": {
        "id": "0ju33KJ2lwlp",
        "outputId": "5f33f2e0-0f0b-4dd8-b760-399fea629732"
      },
      "outputs": [
        {
          "data": {
            "text/plain": [
              "[<BrokerOrderTransactionTypeConstants.BUY: 'BUY'>,\n",
              " <BrokerOrderTransactionTypeConstants.SELL: 'SELL'>]"
            ]
          },
          "execution_count": 10,
          "metadata": {},
          "output_type": "execute_result"
        }
      ],
      "source": [
        "list(BrokerConnectionZerodha.ORDER_TRANSACTION_TYPE_MAP.keys())"
      ]
    },
    {
      "cell_type": "code",
      "execution_count": null,
      "metadata": {
        "id": "piYAZV6Ylwlp",
        "outputId": "1ecf4710-f7eb-4083-8d96-1b320435957c"
      },
      "outputs": [
        {
          "data": {
            "text/plain": [
              "[<BrokerOrderVarietyConstants.MARKET: 'ORDER_VARIETY_MARKET'>,\n",
              " <BrokerOrderVarietyConstants.LIMIT: 'ORDER_VARIETY_LIMIT'>,\n",
              " <BrokerOrderVarietyConstants.STOPLOSS_LIMIT: 'ORDER_VARIETY_STOPLOSS_LIMIT'>,\n",
              " <BrokerOrderVarietyConstants.STOPLOSS_MARKET: 'ORDER_VARIETY_STOPLOSS_MARKET'>]"
            ]
          },
          "execution_count": 11,
          "metadata": {},
          "output_type": "execute_result"
        }
      ],
      "source": [
        "list(BrokerConnectionZerodha.ORDER_VARIETY_MAP.keys())"
      ]
    },
    {
      "cell_type": "code",
      "execution_count": null,
      "metadata": {
        "id": "Mlp6NiTSlwlq",
        "outputId": "7692c545-44a6-47b7-b83d-b4c46747db9c"
      },
      "outputs": [
        {
          "data": {
            "text/plain": [
              "[<BrokerOrderTypeConstants.REGULAR: 'ORDER_TYPE_REGULAR'>,\n",
              " <BrokerOrderTypeConstants.BRACKET: 'ORDER_TYPE_BRACKET'>,\n",
              " <BrokerOrderTypeConstants.COVER: 'ORDER_TYPE_COVER'>,\n",
              " <BrokerOrderTypeConstants.AMO: 'ORDER_TYPE_AFTER_MARKET_ORDER'>]"
            ]
          },
          "execution_count": 12,
          "metadata": {},
          "output_type": "execute_result"
        }
      ],
      "source": [
        "list(BrokerConnectionZerodha.ORDER_TYPE_MAP.keys())"
      ]
    },
    {
      "cell_type": "code",
      "execution_count": null,
      "metadata": {
        "id": "lAEZ_WXElwlq",
        "outputId": "0639efeb-3374-4591-c657-bf6a29b9c368"
      },
      "outputs": [
        {
          "data": {
            "text/plain": [
              "[<BrokerOrderCodeConstants.INTRADAY: 'ORDER_CODE_INTRADAY'>,\n",
              " <BrokerOrderCodeConstants.DELIVERY: 'ORDER_CODE_DELIVERY_T0'>]"
            ]
          },
          "execution_count": 13,
          "metadata": {},
          "output_type": "execute_result"
        }
      ],
      "source": [
        "list(BrokerConnectionZerodha.ORDER_CODE_MAP.keys())"
      ]
    },
    {
      "cell_type": "markdown",
      "metadata": {
        "id": "4MPQvKaHlwlr"
      },
      "source": [
        "### Recipe 7: Place a simple REGULAR order"
      ]
    },
    {
      "cell_type": "code",
      "execution_count": null,
      "metadata": {
        "id": "x2AZ0e77lwlr"
      },
      "outputs": [],
      "source": [
        "from pyalgotrading.constants import *"
      ]
    },
    {
      "cell_type": "code",
      "execution_count": null,
      "metadata": {
        "id": "xiBcBdJElwlr"
      },
      "outputs": [],
      "source": [
        "instrument = broker_connection.get_instrument(segment='NSE', tradingsymbol='TATASTEEL')"
      ]
    },
    {
      "cell_type": "code",
      "execution_count": null,
      "metadata": {
        "id": "jjqtbGnhlwlr",
        "outputId": "8f86318c-a0b6-4822-e586-85ac024df97e"
      },
      "outputs": [
        {
          "name": "stdout",
          "output_type": "stream",
          "text": [
            "191209000001676\n"
          ]
        }
      ],
      "source": [
        "# Place a Simple Regular order - Buy, Regular, Intraday, Market order\n",
        "order_id = broker_connection.place_order(instrument=instrument,\n",
        "                                         order_transaction_type=BrokerOrderTransactionTypeConstants.BUY,\n",
        "                                         order_type=BrokerOrderTypeConstants.REGULAR,\n",
        "                                         order_code=BrokerOrderCodeConstants.INTRADAY,\n",
        "                                         order_variety=BrokerOrderVarietyConstants.MARKET,\n",
        "                                         quantity=1)\n",
        "order_id\n",
        "\n",
        "# Check your broker site & you will see an order placed with these parameters & order_id"
      ]
    },
    {
      "cell_type": "markdown",
      "metadata": {
        "id": "-_mnHzCylwls"
      },
      "source": [
        "### Recipe 8: Place a simple BRACKET Order"
      ]
    },
    {
      "cell_type": "code",
      "execution_count": null,
      "metadata": {
        "id": "xlXcr6MBlwls"
      },
      "outputs": [],
      "source": [
        "from pyalgotrading.constants import *"
      ]
    },
    {
      "cell_type": "code",
      "execution_count": null,
      "metadata": {
        "id": "CYwW9dGBlwls"
      },
      "outputs": [],
      "source": [
        "instrument = broker_connection.get_instrument(segment='NSE', tradingsymbol='ICICIBANK')"
      ]
    },
    {
      "cell_type": "code",
      "execution_count": null,
      "metadata": {
        "id": "8TCpA0sWlwlt",
        "outputId": "a56fc310-77f4-40e4-f6e1-20c8ef802978"
      },
      "outputs": [
        {
          "name": "stdout",
          "output_type": "stream",
          "text": [
            "191212001268839\n"
          ]
        }
      ],
      "source": [
        "# Place a simple BRACKET order - Buy, Bracket, Intraday, Limit order\n",
        "ltp = broker_connection.get_ltp(instrument)\n",
        "order_id = broker_connection.place_order(instrument=instrument,\n",
        "                                         order_transaction_type=BrokerOrderTransactionTypeConstants.BUY,\n",
        "                                         order_type=BrokerOrderTypeConstants.BRACKET,\n",
        "                                         order_code=BrokerOrderCodeConstants.INTRADAY,\n",
        "                                         order_variety=BrokerOrderVarietyConstants.LIMIT,\n",
        "                                         quantity=1,\n",
        "                                         price=ltp-1,\n",
        "                                         stoploss=2,\n",
        "                                         target=2)\n",
        "order_id\n",
        "\n",
        "# Check your broker site & you will see an order placed with these parameters & order_id"
      ]
    },
    {
      "cell_type": "markdown",
      "metadata": {
        "id": "dqkk77palwlt"
      },
      "source": [
        "### Recipe 9: Place a simple DELIVERY order"
      ]
    },
    {
      "cell_type": "code",
      "execution_count": null,
      "metadata": {
        "id": "pljeNHNllwlt"
      },
      "outputs": [],
      "source": [
        "from pyalgotrading.constants import *"
      ]
    },
    {
      "cell_type": "code",
      "execution_count": null,
      "metadata": {
        "id": "3NtH8qY6lwlt"
      },
      "outputs": [],
      "source": [
        "instrument = broker_connection.get_instrument(segment='NSE', tradingsymbol='AXISBANK')"
      ]
    },
    {
      "cell_type": "code",
      "execution_count": null,
      "metadata": {
        "id": "8nCNsxoBlwlt",
        "outputId": "1b3601e7-accd-42ce-f32f-f68d482f7dd4"
      },
      "outputs": [
        {
          "name": "stdout",
          "output_type": "stream",
          "text": [
            "191212001268956\n"
          ]
        }
      ],
      "source": [
        "# Place a simple DELIVERY order - Sell, Regular, Delivery, Market order\n",
        "order_id = broker_connection.place_order(instrument=instrument,\n",
        "                                         order_transaction_type=BrokerOrderTransactionTypeConstants.SELL,\n",
        "                                         order_type=BrokerOrderTypeConstants.REGULAR,\n",
        "                                         order_code=BrokerOrderCodeConstants.DELIVERY,\n",
        "                                         order_variety=BrokerOrderVarietyConstants.MARKET,\n",
        "                                         quantity=1)\n",
        "order_id\n",
        "\n",
        "# Check your broker site & you will see an order placed with these parameters & order_id"
      ]
    },
    {
      "cell_type": "markdown",
      "metadata": {
        "id": "FzAtaapllwlu"
      },
      "source": [
        "### Recipe 10: Place a simple INTRADAY order"
      ]
    },
    {
      "cell_type": "code",
      "execution_count": null,
      "metadata": {
        "id": "ab-AQPGolwlv"
      },
      "outputs": [],
      "source": [
        "from pyalgotrading.constants import *"
      ]
    },
    {
      "cell_type": "code",
      "execution_count": null,
      "metadata": {
        "id": "Y4iOtvTElwlv"
      },
      "outputs": [],
      "source": [
        "instrument = broker_connection.get_instrument(segment='NSE', tradingsymbol='HDFCBANK')"
      ]
    },
    {
      "cell_type": "code",
      "execution_count": null,
      "metadata": {
        "id": "B2JkjXnxlwlv",
        "outputId": "9e47b165-4001-4265-dda6-87b03d392345"
      },
      "outputs": [
        {
          "name": "stdout",
          "output_type": "stream",
          "text": [
            "191212001269042\n"
          ]
        }
      ],
      "source": [
        "# Place a simple INTRADAY order - Sell, Bracket, Intraday, Limit order\n",
        "ltp = broker_connection.get_ltp(instrument)\n",
        "order_id = broker_connection.place_order(instrument=instrument,\n",
        "                                         order_transaction_type=BrokerOrderTransactionTypeConstants.SELL,\n",
        "                                         order_type=BrokerOrderTypeConstants.BRACKET,\n",
        "                                         order_code=BrokerOrderCodeConstants.INTRADAY,\n",
        "                                         order_variety=BrokerOrderVarietyConstants.LIMIT,\n",
        "                                         quantity=1,\n",
        "                                         price=ltp+1,\n",
        "                                         stoploss=2,\n",
        "                                         target=2)\n",
        "order_id\n",
        "\n",
        "# Check you broker site & you will see an order placed with these parameters & order_id"
      ]
    },
    {
      "cell_type": "markdown",
      "metadata": {
        "id": "KJfwDxGJlwlw"
      },
      "source": [
        "### Recipe 11: Query Margins & Funds"
      ]
    },
    {
      "cell_type": "code",
      "execution_count": null,
      "metadata": {
        "id": "m_9xT7bslwlw",
        "outputId": "953bd366-148b-41a8-ba23-67ec420ec19a"
      },
      "outputs": [
        {
          "data": {
            "text/plain": [
              "{'enabled': True,\n",
              " 'net': 1623.67,\n",
              " 'available': {'adhoc_margin': 0,\n",
              "  'cash': 1623.67,\n",
              "  'opening_balance': 1623.67,\n",
              "  'live_balance': 1623.67,\n",
              "  'collateral': 0,\n",
              "  'intraday_payin': 0},\n",
              " 'utilised': {'debits': 0,\n",
              "  'exposure': 0,\n",
              "  'm2m_realised': 0,\n",
              "  'm2m_unrealised': 0,\n",
              "  'option_premium': 0,\n",
              "  'payout': 0,\n",
              "  'span': 0,\n",
              "  'holding_sales': 0,\n",
              "  'turnover': 0,\n",
              "  'liquid_collateral': 0,\n",
              "  'stock_collateral': 0}}"
            ]
          },
          "execution_count": 26,
          "metadata": {},
          "output_type": "execute_result"
        }
      ],
      "source": [
        "equity_margins = broker_connection.get_margins('equity')\n",
        "equity_margins"
      ]
    },
    {
      "cell_type": "code",
      "execution_count": null,
      "metadata": {
        "id": "hTIeHyUhlwlw",
        "outputId": "1f833943-934c-4bbc-ae05-1a0f0a6e2610"
      },
      "outputs": [
        {
          "data": {
            "text/plain": [
              "1623.67"
            ]
          },
          "execution_count": 27,
          "metadata": {},
          "output_type": "execute_result"
        }
      ],
      "source": [
        "equity_funds = broker_connection.get_funds('equity')\n",
        "equity_funds"
      ]
    },
    {
      "cell_type": "code",
      "execution_count": null,
      "metadata": {
        "id": "T8fQukZelwlx",
        "outputId": "7ffb30ed-795c-4cfb-9cc9-7ac234808780"
      },
      "outputs": [
        {
          "data": {
            "text/plain": [
              "{'enabled': True,\n",
              " 'net': 0,\n",
              " 'available': {'adhoc_margin': 0,\n",
              "  'cash': 0,\n",
              "  'opening_balance': 0,\n",
              "  'live_balance': 0,\n",
              "  'collateral': 0,\n",
              "  'intraday_payin': 0},\n",
              " 'utilised': {'debits': 0,\n",
              "  'exposure': 0,\n",
              "  'm2m_realised': 0,\n",
              "  'm2m_unrealised': 0,\n",
              "  'option_premium': 0,\n",
              "  'payout': 0,\n",
              "  'span': 0,\n",
              "  'holding_sales': 0,\n",
              "  'turnover': 0,\n",
              "  'liquid_collateral': 0,\n",
              "  'stock_collateral': 0}}"
            ]
          },
          "execution_count": 28,
          "metadata": {},
          "output_type": "execute_result"
        }
      ],
      "source": [
        "commodity_margins = broker_connection.get_margins('commodity')\n",
        "commodity_margins"
      ]
    },
    {
      "cell_type": "code",
      "execution_count": null,
      "metadata": {
        "id": "CYt90ur8lwlx",
        "outputId": "770d2071-ccf7-4170-ba54-e80dcdf4e438"
      },
      "outputs": [
        {
          "data": {
            "text/plain": [
              "0"
            ]
          },
          "execution_count": 29,
          "metadata": {},
          "output_type": "execute_result"
        }
      ],
      "source": [
        "commodity_funds = broker_connection.get_funds('commodity')\n",
        "commodity_funds"
      ]
    },
    {
      "cell_type": "markdown",
      "metadata": {
        "id": "AhOXNlHWlwlx"
      },
      "source": [
        "### Recipe 12: Calculate Brokerage charged"
      ]
    },
    {
      "cell_type": "code",
      "execution_count": null,
      "metadata": {
        "id": "5AxrArlslwly",
        "outputId": "6be7ca05-678c-4ffd-a8d3-f51f699cf528"
      },
      "outputs": [
        {
          "name": "stdout",
          "output_type": "stream",
          "text": [
            "Brokerage charged per trade: 0.1245\n"
          ]
        }
      ],
      "source": [
        "entry_price = 1245\n",
        "brokerage = (0.01 * 1245)/100\n",
        "print(f'Brokerage charged per trade: {brokerage:.4f}')"
      ]
    },
    {
      "cell_type": "code",
      "execution_count": null,
      "metadata": {
        "id": "KH47LfBNlwly",
        "outputId": "3765d4a4-106b-4563-9fa2-189cfb8ee8e7"
      },
      "outputs": [
        {
          "name": "stdout",
          "output_type": "stream",
          "text": [
            "Total Brokerage charged for 10 trades: 1.2450\n"
          ]
        }
      ],
      "source": [
        "# Assuming, 10 trades were placed in a day with an average price of 1245, we calculate the total brokerage involved\n",
        "total_brokerage = 10 * (0.01 * 1245) / 100\n",
        "print(f'Total Brokerage charged for 10 trades: {total_brokerage:.4f}')"
      ]
    },
    {
      "cell_type": "markdown",
      "metadata": {
        "id": "8v2HI6SVlwly"
      },
      "source": [
        "### Recipe 13: Calculate Government taxes charged"
      ]
    },
    {
      "cell_type": "code",
      "execution_count": null,
      "metadata": {
        "id": "MFqNSdcNlwly",
        "outputId": "2682ad0f-7fc3-4f4b-e806-cbcc00d94765"
      },
      "outputs": [
        {
          "name": "stdout",
          "output_type": "stream",
          "text": [
            "Government taxes charged per trade: 1.2450\n"
          ]
        }
      ],
      "source": [
        "entry_price = 1245\n",
        "brokerage = (0.1 * 1245)/100\n",
        "print(f'Government taxes charged per trade: {brokerage:.4f}')"
      ]
    },
    {
      "cell_type": "code",
      "execution_count": null,
      "metadata": {
        "id": "ghEpEqDGlwlz",
        "outputId": "bf4eb5dd-9001-4316-82f1-13576cb86dd5"
      },
      "outputs": [
        {
          "name": "stdout",
          "output_type": "stream",
          "text": [
            "Total Government taxes charged for 10 trades: 12.4500\n"
          ]
        }
      ],
      "source": [
        "# Assuming, 10 trades were placed in a day with an average price of 1245, we calculate the total brokerage involved\n",
        "total_brokerage = 10 * (0.1 * 1245) / 100\n",
        "print(f'Total Government taxes charged for 10 trades: {total_brokerage:.4f}')"
      ]
    },
    {
      "cell_type": "code",
      "metadata": {
        "colab": {
          "base_uri": "https://localhost:8080/"
        },
        "id": "dbcb25ee",
        "outputId": "ed75c879-eab9-4d04-8f67-b867430a07ab"
      },
      "source": [
        "!pip install kiteconnect -v"
      ],
      "execution_count": 5,
      "outputs": [
        {
          "output_type": "stream",
          "name": "stdout",
          "text": [
            "Using pip 24.1.2 from /usr/local/lib/python3.11/dist-packages/pip (python 3.11)\n",
            "Collecting kiteconnect\n",
            "  Obtaining dependency information for kiteconnect from https://files.pythonhosted.org/packages/4c/54/45fb78d0cf6650c74f9ab070147197bd37db8f92e6475e63be1ca837a4ff/kiteconnect-5.0.1-py3-none-any.whl.metadata\n",
            "  Downloading kiteconnect-5.0.1-py3-none-any.whl.metadata (8.0 kB)\n",
            "Collecting service-identity>=18.1.0 (from kiteconnect)\n",
            "  Obtaining dependency information for service-identity>=18.1.0 from https://files.pythonhosted.org/packages/08/2c/ca6dd598b384bc1ce581e24aaae0f2bed4ccac57749d5c3befbb5e742081/service_identity-24.2.0-py3-none-any.whl.metadata\n",
            "  Downloading service_identity-24.2.0-py3-none-any.whl.metadata (5.1 kB)\n",
            "Requirement already satisfied: requests>=2.18.4 in /usr/local/lib/python3.11/dist-packages (from kiteconnect) (2.32.3)\n",
            "Requirement already satisfied: six>=1.11.0 in /usr/local/lib/python3.11/dist-packages (from kiteconnect) (1.17.0)\n",
            "Requirement already satisfied: pyOpenSSL>=17.5.0 in /usr/local/lib/python3.11/dist-packages (from kiteconnect) (24.2.1)\n",
            "Requirement already satisfied: python-dateutil>=2.6.1 in /usr/local/lib/python3.11/dist-packages (from kiteconnect) (2.9.0.post0)\n",
            "Collecting autobahn==19.11.2 (from autobahn[twisted]==19.11.2->kiteconnect)\n",
            "  Obtaining dependency information for autobahn==19.11.2 from https://files.pythonhosted.org/packages/84/05/828b0c5a558b67c8afd64e233976553298688eee39c78de3a8c8cf98c91f/autobahn-19.11.2-py2.py3-none-any.whl.metadata\n",
            "  Downloading autobahn-19.11.2-py2.py3-none-any.whl.metadata (16 kB)\n",
            "Collecting txaio>=18.8.1 (from autobahn==19.11.2->autobahn[twisted]==19.11.2->kiteconnect)\n",
            "  Obtaining dependency information for txaio>=18.8.1 from https://files.pythonhosted.org/packages/52/56/aff5af8caa210321d0c206eb19897a4e0b29b4e24c4e24226325950efe0b/txaio-25.6.1-py2.py3-none-any.whl.metadata\n",
            "  Using cached txaio-25.6.1-py2.py3-none-any.whl.metadata (7.1 kB)\n",
            "Requirement already satisfied: cryptography>=2.7 in /usr/local/lib/python3.11/dist-packages (from autobahn==19.11.2->autobahn[twisted]==19.11.2->kiteconnect) (43.0.3)\n",
            "Collecting zope.interface>=3.6.0 (from autobahn[twisted]==19.11.2->kiteconnect)\n",
            "  Obtaining dependency information for zope.interface>=3.6.0 from https://files.pythonhosted.org/packages/9f/aa/1a28c02815fe1ca282b54f6705b9ddba20328fabdc37b8cf73fc06b172f0/zope.interface-7.2-cp311-cp311-manylinux_2_5_x86_64.manylinux1_x86_64.manylinux_2_17_x86_64.manylinux2014_x86_64.whl.metadata\n",
            "  Using cached zope.interface-7.2-cp311-cp311-manylinux_2_5_x86_64.manylinux1_x86_64.manylinux_2_17_x86_64.manylinux2014_x86_64.whl.metadata (44 kB)\n",
            "Collecting Twisted>=12.1.0 (from autobahn[twisted]==19.11.2->kiteconnect)\n",
            "  Obtaining dependency information for Twisted>=12.1.0 from https://files.pythonhosted.org/packages/eb/66/ab7efd8941f0bc7b2bd555b0f0471bff77df4c88e0cc31120c82737fec77/twisted-25.5.0-py3-none-any.whl.metadata\n",
            "  Using cached twisted-25.5.0-py3-none-any.whl.metadata (22 kB)\n",
            "Requirement already satisfied: charset-normalizer<4,>=2 in /usr/local/lib/python3.11/dist-packages (from requests>=2.18.4->kiteconnect) (3.4.2)\n",
            "Requirement already satisfied: idna<4,>=2.5 in /usr/local/lib/python3.11/dist-packages (from requests>=2.18.4->kiteconnect) (3.10)\n",
            "Requirement already satisfied: urllib3<3,>=1.21.1 in /usr/local/lib/python3.11/dist-packages (from requests>=2.18.4->kiteconnect) (2.4.0)\n",
            "Requirement already satisfied: certifi>=2017.4.17 in /usr/local/lib/python3.11/dist-packages (from requests>=2.18.4->kiteconnect) (2025.6.15)\n",
            "Requirement already satisfied: attrs>=19.1.0 in /usr/local/lib/python3.11/dist-packages (from service-identity>=18.1.0->kiteconnect) (25.3.0)\n",
            "Requirement already satisfied: pyasn1 in /usr/local/lib/python3.11/dist-packages (from service-identity>=18.1.0->kiteconnect) (0.6.1)\n",
            "Requirement already satisfied: pyasn1-modules in /usr/local/lib/python3.11/dist-packages (from service-identity>=18.1.0->kiteconnect) (0.4.2)\n",
            "Requirement already satisfied: cffi>=1.12 in /usr/local/lib/python3.11/dist-packages (from cryptography>=2.7->autobahn==19.11.2->autobahn[twisted]==19.11.2->kiteconnect) (1.17.1)\n",
            "Collecting automat>=24.8.0 (from Twisted>=12.1.0->autobahn[twisted]==19.11.2->kiteconnect)\n",
            "  Obtaining dependency information for automat>=24.8.0 from https://files.pythonhosted.org/packages/02/ff/1175b0b7371e46244032d43a56862d0af455823b5280a50c63d99cc50f18/automat-25.4.16-py3-none-any.whl.metadata\n",
            "  Using cached automat-25.4.16-py3-none-any.whl.metadata (8.4 kB)\n",
            "Collecting constantly>=15.1 (from Twisted>=12.1.0->autobahn[twisted]==19.11.2->kiteconnect)\n",
            "  Obtaining dependency information for constantly>=15.1 from https://files.pythonhosted.org/packages/b8/40/c199d095151addf69efdb4b9ca3a4f20f70e20508d6222bffb9b76f58573/constantly-23.10.4-py3-none-any.whl.metadata\n",
            "  Using cached constantly-23.10.4-py3-none-any.whl.metadata (1.8 kB)\n",
            "Collecting hyperlink>=17.1.1 (from Twisted>=12.1.0->autobahn[twisted]==19.11.2->kiteconnect)\n",
            "  Obtaining dependency information for hyperlink>=17.1.1 from https://files.pythonhosted.org/packages/6e/aa/8caf6a0a3e62863cbb9dab27135660acba46903b703e224f14f447e57934/hyperlink-21.0.0-py2.py3-none-any.whl.metadata\n",
            "  Using cached hyperlink-21.0.0-py2.py3-none-any.whl.metadata (1.5 kB)\n",
            "Collecting incremental>=24.7.0 (from Twisted>=12.1.0->autobahn[twisted]==19.11.2->kiteconnect)\n",
            "  Obtaining dependency information for incremental>=24.7.0 from https://files.pythonhosted.org/packages/0d/38/221e5b2ae676a3938c2c1919131410c342b6efc2baffeda395dd66eeca8f/incremental-24.7.2-py3-none-any.whl.metadata\n",
            "  Using cached incremental-24.7.2-py3-none-any.whl.metadata (8.1 kB)\n",
            "Requirement already satisfied: typing-extensions>=4.2.0 in /usr/local/lib/python3.11/dist-packages (from Twisted>=12.1.0->autobahn[twisted]==19.11.2->kiteconnect) (4.14.0)\n",
            "Requirement already satisfied: setuptools in /usr/local/lib/python3.11/dist-packages (from zope.interface>=3.6.0->autobahn[twisted]==19.11.2->kiteconnect) (75.2.0)\n",
            "Requirement already satisfied: pycparser in /usr/local/lib/python3.11/dist-packages (from cffi>=1.12->cryptography>=2.7->autobahn==19.11.2->autobahn[twisted]==19.11.2->kiteconnect) (2.22)\n",
            "Downloading kiteconnect-5.0.1-py3-none-any.whl (24 kB)\n",
            "Downloading autobahn-19.11.2-py2.py3-none-any.whl (771 kB)\n",
            "\u001b[2K   \u001b[90m━━━━━━━━━━━━━━━━━━━━━━━━━━━━━━━━━━━━━━━━\u001b[0m \u001b[32m771.5/771.5 kB\u001b[0m \u001b[31m36.9 MB/s\u001b[0m eta \u001b[36m0:00:00\u001b[0m\n",
            "\u001b[?25hDownloading service_identity-24.2.0-py3-none-any.whl (11 kB)\n",
            "Using cached twisted-25.5.0-py3-none-any.whl (3.2 MB)\n",
            "Using cached txaio-25.6.1-py2.py3-none-any.whl (31 kB)\n",
            "Using cached zope.interface-7.2-cp311-cp311-manylinux_2_5_x86_64.manylinux1_x86_64.manylinux_2_17_x86_64.manylinux2014_x86_64.whl (259 kB)\n",
            "Using cached automat-25.4.16-py3-none-any.whl (42 kB)\n",
            "Using cached constantly-23.10.4-py3-none-any.whl (13 kB)\n",
            "Using cached hyperlink-21.0.0-py2.py3-none-any.whl (74 kB)\n",
            "Using cached incremental-24.7.2-py3-none-any.whl (20 kB)\n",
            "Installing collected packages: zope.interface, txaio, incremental, hyperlink, constantly, automat, Twisted, service-identity, autobahn, kiteconnect\n",
            "  changing mode of /usr/local/bin/automat-visualize to 755\n",
            "  changing mode of /usr/local/bin/cftp to 755\n",
            "  changing mode of /usr/local/bin/ckeygen to 755\n",
            "  changing mode of /usr/local/bin/conch to 755\n",
            "  changing mode of /usr/local/bin/mailmail to 755\n",
            "  changing mode of /usr/local/bin/pyhtmlizer to 755\n",
            "  changing mode of /usr/local/bin/tkconch to 755\n",
            "  changing mode of /usr/local/bin/trial to 755\n",
            "  changing mode of /usr/local/bin/twist to 755\n",
            "  changing mode of /usr/local/bin/twistd to 755\n",
            "  changing mode of /usr/local/bin/wamp to 755\n",
            "Successfully installed Twisted-25.5.0 autobahn-19.11.2 automat-25.4.16 constantly-23.10.4 hyperlink-21.0.0 incremental-24.7.2 kiteconnect-5.0.1 service-identity-24.2.0 txaio-25.6.1 zope.interface-7.2\n"
          ]
        }
      ]
    },
    {
      "cell_type": "code",
      "metadata": {
        "colab": {
          "base_uri": "https://localhost:8080/"
        },
        "id": "cb4b74f9",
        "outputId": "39623438-5796-4896-b94e-b7aaa3ff24db"
      },
      "source": [
        "!pip install --upgrade pyalgotrading"
      ],
      "execution_count": 8,
      "outputs": [
        {
          "output_type": "stream",
          "name": "stdout",
          "text": [
            "Requirement already satisfied: pyalgotrading in /usr/local/lib/python3.11/dist-packages (2025.3.1)\n",
            "Requirement already satisfied: requests>=2.24.0 in /usr/local/lib/python3.11/dist-packages (from pyalgotrading) (2.32.3)\n",
            "Requirement already satisfied: pandas>=0.25.3 in /usr/local/lib/python3.11/dist-packages (from pyalgotrading) (2.2.2)\n",
            "Requirement already satisfied: numpy>=1.23.2 in /usr/local/lib/python3.11/dist-packages (from pandas>=0.25.3->pyalgotrading) (2.0.2)\n",
            "Requirement already satisfied: python-dateutil>=2.8.2 in /usr/local/lib/python3.11/dist-packages (from pandas>=0.25.3->pyalgotrading) (2.9.0.post0)\n",
            "Requirement already satisfied: pytz>=2020.1 in /usr/local/lib/python3.11/dist-packages (from pandas>=0.25.3->pyalgotrading) (2025.2)\n",
            "Requirement already satisfied: tzdata>=2022.7 in /usr/local/lib/python3.11/dist-packages (from pandas>=0.25.3->pyalgotrading) (2025.2)\n",
            "Requirement already satisfied: charset-normalizer<4,>=2 in /usr/local/lib/python3.11/dist-packages (from requests>=2.24.0->pyalgotrading) (3.4.2)\n",
            "Requirement already satisfied: idna<4,>=2.5 in /usr/local/lib/python3.11/dist-packages (from requests>=2.24.0->pyalgotrading) (3.10)\n",
            "Requirement already satisfied: urllib3<3,>=1.21.1 in /usr/local/lib/python3.11/dist-packages (from requests>=2.24.0->pyalgotrading) (2.4.0)\n",
            "Requirement already satisfied: certifi>=2017.4.17 in /usr/local/lib/python3.11/dist-packages (from requests>=2.24.0->pyalgotrading) (2025.6.15)\n",
            "Requirement already satisfied: six>=1.5 in /usr/local/lib/python3.11/dist-packages (from python-dateutil>=2.8.2->pandas>=0.25.3->pyalgotrading) (1.17.0)\n"
          ]
        }
      ]
    }
  ],
  "metadata": {
    "kernelspec": {
      "display_name": "Python 3",
      "language": "python",
      "name": "python3"
    },
    "language_info": {
      "codemirror_mode": {
        "name": "ipython",
        "version": 3
      },
      "file_extension": ".py",
      "mimetype": "text/x-python",
      "name": "python",
      "nbconvert_exporter": "python",
      "pygments_lexer": "ipython3",
      "version": "3.8.2"
    },
    "colab": {
      "provenance": []
    }
  },
  "nbformat": 4,
  "nbformat_minor": 0
}