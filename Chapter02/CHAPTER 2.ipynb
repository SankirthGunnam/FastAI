{
  "cells": [
    {
      "cell_type": "markdown",
      "metadata": {
        "id": "jMzH5mTXlwld"
      },
      "source": [
        "# Python Algorithmic Trading Cookbook"
      ]
    },
    {
      "cell_type": "markdown",
      "metadata": {
        "id": "lx32EIS3lwlf"
      },
      "source": [
        "## Chapter 2: Stock Markets: Primer on Trading"
      ]
    },
    {
      "cell_type": "markdown",
      "metadata": {
        "id": "WBHkY4fLlwlg"
      },
      "source": [
        "This Jupyter Notebook is created using Python version 3.8.2"
      ]
    },
    {
      "cell_type": "markdown",
      "metadata": {
        "id": "6YQwrzr7lwlg"
      },
      "source": [
        "----"
      ]
    },
    {
      "cell_type": "markdown",
      "metadata": {
        "id": "hpWRx1vMlwlg"
      },
      "source": [
        "### Requirements"
      ]
    },
    {
      "cell_type": "markdown",
      "metadata": {
        "id": "cKvIt9JLlwlh"
      },
      "source": [
        "You can install the requirements for this Jupyter Notebook by executing the below cell"
      ]
    },
    {
      "cell_type": "code",
      "execution_count": 1,
      "metadata": {
        "colab": {
          "base_uri": "https://localhost:8080/"
        },
        "id": "HCJ1R23Dlwlh",
        "outputId": "868be81b-22d7-4de3-80b2-859ec62ad2fe"
      },
      "outputs": [
        {
          "output_type": "stream",
          "name": "stdout",
          "text": [
            "Collecting pyalgotrading\n",
            "  Downloading pyalgotrading-2025.3.1-py3-none-any.whl.metadata (5.8 kB)\n",
            "Requirement already satisfied: requests>=2.24.0 in /usr/local/lib/python3.11/dist-packages (from pyalgotrading) (2.32.3)\n",
            "Requirement already satisfied: pandas>=0.25.3 in /usr/local/lib/python3.11/dist-packages (from pyalgotrading) (2.2.2)\n",
            "Requirement already satisfied: numpy>=1.23.2 in /usr/local/lib/python3.11/dist-packages (from pandas>=0.25.3->pyalgotrading) (2.0.2)\n",
            "Requirement already satisfied: python-dateutil>=2.8.2 in /usr/local/lib/python3.11/dist-packages (from pandas>=0.25.3->pyalgotrading) (2.9.0.post0)\n",
            "Requirement already satisfied: pytz>=2020.1 in /usr/local/lib/python3.11/dist-packages (from pandas>=0.25.3->pyalgotrading) (2025.2)\n",
            "Requirement already satisfied: tzdata>=2022.7 in /usr/local/lib/python3.11/dist-packages (from pandas>=0.25.3->pyalgotrading) (2025.2)\n",
            "Requirement already satisfied: charset-normalizer<4,>=2 in /usr/local/lib/python3.11/dist-packages (from requests>=2.24.0->pyalgotrading) (3.4.2)\n",
            "Requirement already satisfied: idna<4,>=2.5 in /usr/local/lib/python3.11/dist-packages (from requests>=2.24.0->pyalgotrading) (3.10)\n",
            "Requirement already satisfied: urllib3<3,>=1.21.1 in /usr/local/lib/python3.11/dist-packages (from requests>=2.24.0->pyalgotrading) (2.4.0)\n",
            "Requirement already satisfied: certifi>=2017.4.17 in /usr/local/lib/python3.11/dist-packages (from requests>=2.24.0->pyalgotrading) (2025.6.15)\n",
            "Requirement already satisfied: six>=1.5 in /usr/local/lib/python3.11/dist-packages (from python-dateutil>=2.8.2->pandas>=0.25.3->pyalgotrading) (1.17.0)\n",
            "Downloading pyalgotrading-2025.3.1-py3-none-any.whl (43 kB)\n",
            "\u001b[?25l   \u001b[90m━━━━━━━━━━━━━━━━━━━━━━━━━━━━━━━━━━━━━━━━\u001b[0m \u001b[32m0.0/43.3 kB\u001b[0m \u001b[31m?\u001b[0m eta \u001b[36m-:--:--\u001b[0m\r\u001b[2K   \u001b[90m━━━━━━━━━━━━━━━━━━━━━━━━━━━━━━━━━━━━━━━━\u001b[0m \u001b[32m43.3/43.3 kB\u001b[0m \u001b[31m3.3 MB/s\u001b[0m eta \u001b[36m0:00:00\u001b[0m\n",
            "\u001b[?25hInstalling collected packages: pyalgotrading\n",
            "Successfully installed pyalgotrading-2025.3.1\n"
          ]
        }
      ],
      "source": [
        "!pip install pyalgotrading"
      ]
    },
    {
      "cell_type": "markdown",
      "metadata": {
        "id": "8yO1mKc8lwli"
      },
      "source": [
        "----"
      ]
    },
    {
      "cell_type": "markdown",
      "metadata": {
        "id": "b0ePfHvzlwli"
      },
      "source": [
        "### Recipe 1: Setup Python connectivity with Broker"
      ]
    },
    {
      "cell_type": "code",
      "execution_count": 24,
      "metadata": {
        "collapsed": true,
        "id": "Gt_RCRyNlwlj"
      },
      "outputs": [],
      "source": [
        "# Get the api_key & api_secret from broker. These are unique to you & will be used by the broker to identify your demat account.\n",
        "#api_key = \"mgmg3j28b5ol7mtz\"\n",
        "#api_secret = \"2gvqx19p1g3ebnalp9gqlmsolmu0f501\"\n",
        "\n",
        "from kiteconnect import KiteConnect\n",
        "\n",
        "api_key = \"s5oyneqwnjpuv592\"\n",
        "api_secret = \"jz0yb8deky969mstt0rjlpczrc7pezig\"\n",
        "\n",
        "kite = KiteConnect(api_key=api_key)\n",
        "\n",
        "# broker_connection = BrokerConnectionZerodha(api_key, api_secret)"
      ]
    },
    {
      "cell_type": "code",
      "source": [
        "# After logging in and getting the request token from the redirect URL, replace \"<YOUR_REQUEST_TOKEN>\" with it.\n",
        "# Get your token by loggin in to zerodha with this link\n",
        "# https://kite.zerodha.com/connect/login?api_key=s5oyneqwnjpuv592&v=3\n",
        "request_token = \"WrGQgahvWn3FsxmnV07lzjcy1mLXR955\"\n",
        "data = kite.generate_session(request_token, api_secret=api_secret)\n",
        "access_token = data[\"access_token\"]\n",
        "\n",
        "# Set the access token\n",
        "kite.set_access_token(access_token)\n",
        "\n",
        "print(\"Successfully connected to KiteConnect!\")"
      ],
      "metadata": {
        "colab": {
          "base_uri": "https://localhost:8080/"
        },
        "id": "_EipdfNDslST",
        "outputId": "e6a3778f-1805-420d-ff28-1e10a96a59d3"
      },
      "execution_count": 28,
      "outputs": [
        {
          "output_type": "stream",
          "name": "stdout",
          "text": [
            "Successfully connected to KiteConnect!\n"
          ]
        }
      ]
    },
    {
      "cell_type": "code",
      "source": [
        "# Fetching current holdings\n",
        "import pandas\n",
        "try:\n",
        "    holdings = kite.holdings()\n",
        "    holdings_df = pandas.DataFrame(holdings)\n",
        "except Exception as e:\n",
        "    print(f\"Error fetching holdings: {e}\")\n",
        "holdings_df"
      ],
      "metadata": {
        "colab": {
          "base_uri": "https://localhost:8080/",
          "height": 297
        },
        "id": "M-2sFC5_yTN1",
        "outputId": "8d189896-65c1-4e4b-ae18-b2e1cf38e2bb"
      },
      "execution_count": 44,
      "outputs": [
        {
          "output_type": "execute_result",
          "data": {
            "text/plain": [
              "  tradingsymbol exchange  instrument_token          isin product  price  \\\n",
              "0          ONGC      NSE            633601  INE213A01029     CNC      0   \n",
              "1     TATAPOWER      NSE            877057  INE245A01021     CNC      0   \n",
              "2     TATASTEEL      NSE            895745  INE081A01020     CNC      0   \n",
              "\n",
              "   quantity  used_quantity  t1_quantity  realised_quantity  ...  \\\n",
              "0         5              0            0                  5  ...   \n",
              "1         3              0            0                  3  ...   \n",
              "2        20              0            0                 20  ...   \n",
              "\n",
              "   collateral_quantity collateral_type discrepancy  average_price  last_price  \\\n",
              "0                    0                       False          198.9      245.24   \n",
              "1                    0                       False          344.7      401.00   \n",
              "2                    0                       False          151.2      163.01   \n",
              "\n",
              "   close_price    pnl  day_change  day_change_percentage  \\\n",
              "0       244.05  231.7        1.19               0.487605   \n",
              "1       399.90  168.9        1.10               0.275069   \n",
              "2       165.91  236.2       -2.90              -1.747936   \n",
              "\n",
              "                                                 mtf  \n",
              "0  {'quantity': 0, 'used_quantity': 0, 'average_p...  \n",
              "1  {'quantity': 0, 'used_quantity': 0, 'average_p...  \n",
              "2  {'quantity': 0, 'used_quantity': 0, 'average_p...  \n",
              "\n",
              "[3 rows x 25 columns]"
            ],
            "text/html": [
              "\n",
              "  <div id=\"df-afac6331-a32d-4a12-9dda-40f710cab76d\" class=\"colab-df-container\">\n",
              "    <div>\n",
              "<style scoped>\n",
              "    .dataframe tbody tr th:only-of-type {\n",
              "        vertical-align: middle;\n",
              "    }\n",
              "\n",
              "    .dataframe tbody tr th {\n",
              "        vertical-align: top;\n",
              "    }\n",
              "\n",
              "    .dataframe thead th {\n",
              "        text-align: right;\n",
              "    }\n",
              "</style>\n",
              "<table border=\"1\" class=\"dataframe\">\n",
              "  <thead>\n",
              "    <tr style=\"text-align: right;\">\n",
              "      <th></th>\n",
              "      <th>tradingsymbol</th>\n",
              "      <th>exchange</th>\n",
              "      <th>instrument_token</th>\n",
              "      <th>isin</th>\n",
              "      <th>product</th>\n",
              "      <th>price</th>\n",
              "      <th>quantity</th>\n",
              "      <th>used_quantity</th>\n",
              "      <th>t1_quantity</th>\n",
              "      <th>realised_quantity</th>\n",
              "      <th>...</th>\n",
              "      <th>collateral_quantity</th>\n",
              "      <th>collateral_type</th>\n",
              "      <th>discrepancy</th>\n",
              "      <th>average_price</th>\n",
              "      <th>last_price</th>\n",
              "      <th>close_price</th>\n",
              "      <th>pnl</th>\n",
              "      <th>day_change</th>\n",
              "      <th>day_change_percentage</th>\n",
              "      <th>mtf</th>\n",
              "    </tr>\n",
              "  </thead>\n",
              "  <tbody>\n",
              "    <tr>\n",
              "      <th>0</th>\n",
              "      <td>ONGC</td>\n",
              "      <td>NSE</td>\n",
              "      <td>633601</td>\n",
              "      <td>INE213A01029</td>\n",
              "      <td>CNC</td>\n",
              "      <td>0</td>\n",
              "      <td>5</td>\n",
              "      <td>0</td>\n",
              "      <td>0</td>\n",
              "      <td>5</td>\n",
              "      <td>...</td>\n",
              "      <td>0</td>\n",
              "      <td></td>\n",
              "      <td>False</td>\n",
              "      <td>198.9</td>\n",
              "      <td>245.24</td>\n",
              "      <td>244.05</td>\n",
              "      <td>231.7</td>\n",
              "      <td>1.19</td>\n",
              "      <td>0.487605</td>\n",
              "      <td>{'quantity': 0, 'used_quantity': 0, 'average_p...</td>\n",
              "    </tr>\n",
              "    <tr>\n",
              "      <th>1</th>\n",
              "      <td>TATAPOWER</td>\n",
              "      <td>NSE</td>\n",
              "      <td>877057</td>\n",
              "      <td>INE245A01021</td>\n",
              "      <td>CNC</td>\n",
              "      <td>0</td>\n",
              "      <td>3</td>\n",
              "      <td>0</td>\n",
              "      <td>0</td>\n",
              "      <td>3</td>\n",
              "      <td>...</td>\n",
              "      <td>0</td>\n",
              "      <td></td>\n",
              "      <td>False</td>\n",
              "      <td>344.7</td>\n",
              "      <td>401.00</td>\n",
              "      <td>399.90</td>\n",
              "      <td>168.9</td>\n",
              "      <td>1.10</td>\n",
              "      <td>0.275069</td>\n",
              "      <td>{'quantity': 0, 'used_quantity': 0, 'average_p...</td>\n",
              "    </tr>\n",
              "    <tr>\n",
              "      <th>2</th>\n",
              "      <td>TATASTEEL</td>\n",
              "      <td>NSE</td>\n",
              "      <td>895745</td>\n",
              "      <td>INE081A01020</td>\n",
              "      <td>CNC</td>\n",
              "      <td>0</td>\n",
              "      <td>20</td>\n",
              "      <td>0</td>\n",
              "      <td>0</td>\n",
              "      <td>20</td>\n",
              "      <td>...</td>\n",
              "      <td>0</td>\n",
              "      <td></td>\n",
              "      <td>False</td>\n",
              "      <td>151.2</td>\n",
              "      <td>163.01</td>\n",
              "      <td>165.91</td>\n",
              "      <td>236.2</td>\n",
              "      <td>-2.90</td>\n",
              "      <td>-1.747936</td>\n",
              "      <td>{'quantity': 0, 'used_quantity': 0, 'average_p...</td>\n",
              "    </tr>\n",
              "  </tbody>\n",
              "</table>\n",
              "<p>3 rows × 25 columns</p>\n",
              "</div>\n",
              "    <div class=\"colab-df-buttons\">\n",
              "\n",
              "  <div class=\"colab-df-container\">\n",
              "    <button class=\"colab-df-convert\" onclick=\"convertToInteractive('df-afac6331-a32d-4a12-9dda-40f710cab76d')\"\n",
              "            title=\"Convert this dataframe to an interactive table.\"\n",
              "            style=\"display:none;\">\n",
              "\n",
              "  <svg xmlns=\"http://www.w3.org/2000/svg\" height=\"24px\" viewBox=\"0 -960 960 960\">\n",
              "    <path d=\"M120-120v-720h720v720H120Zm60-500h600v-160H180v160Zm220 220h160v-160H400v160Zm0 220h160v-160H400v160ZM180-400h160v-160H180v160Zm440 0h160v-160H620v160ZM180-180h160v-160H180v160Zm440 0h160v-160H620v160Z\"/>\n",
              "  </svg>\n",
              "    </button>\n",
              "\n",
              "  <style>\n",
              "    .colab-df-container {\n",
              "      display:flex;\n",
              "      gap: 12px;\n",
              "    }\n",
              "\n",
              "    .colab-df-convert {\n",
              "      background-color: #E8F0FE;\n",
              "      border: none;\n",
              "      border-radius: 50%;\n",
              "      cursor: pointer;\n",
              "      display: none;\n",
              "      fill: #1967D2;\n",
              "      height: 32px;\n",
              "      padding: 0 0 0 0;\n",
              "      width: 32px;\n",
              "    }\n",
              "\n",
              "    .colab-df-convert:hover {\n",
              "      background-color: #E2EBFA;\n",
              "      box-shadow: 0px 1px 2px rgba(60, 64, 67, 0.3), 0px 1px 3px 1px rgba(60, 64, 67, 0.15);\n",
              "      fill: #174EA6;\n",
              "    }\n",
              "\n",
              "    .colab-df-buttons div {\n",
              "      margin-bottom: 4px;\n",
              "    }\n",
              "\n",
              "    [theme=dark] .colab-df-convert {\n",
              "      background-color: #3B4455;\n",
              "      fill: #D2E3FC;\n",
              "    }\n",
              "\n",
              "    [theme=dark] .colab-df-convert:hover {\n",
              "      background-color: #434B5C;\n",
              "      box-shadow: 0px 1px 3px 1px rgba(0, 0, 0, 0.15);\n",
              "      filter: drop-shadow(0px 1px 2px rgba(0, 0, 0, 0.3));\n",
              "      fill: #FFFFFF;\n",
              "    }\n",
              "  </style>\n",
              "\n",
              "    <script>\n",
              "      const buttonEl =\n",
              "        document.querySelector('#df-afac6331-a32d-4a12-9dda-40f710cab76d button.colab-df-convert');\n",
              "      buttonEl.style.display =\n",
              "        google.colab.kernel.accessAllowed ? 'block' : 'none';\n",
              "\n",
              "      async function convertToInteractive(key) {\n",
              "        const element = document.querySelector('#df-afac6331-a32d-4a12-9dda-40f710cab76d');\n",
              "        const dataTable =\n",
              "          await google.colab.kernel.invokeFunction('convertToInteractive',\n",
              "                                                    [key], {});\n",
              "        if (!dataTable) return;\n",
              "\n",
              "        const docLinkHtml = 'Like what you see? Visit the ' +\n",
              "          '<a target=\"_blank\" href=https://colab.research.google.com/notebooks/data_table.ipynb>data table notebook</a>'\n",
              "          + ' to learn more about interactive tables.';\n",
              "        element.innerHTML = '';\n",
              "        dataTable['output_type'] = 'display_data';\n",
              "        await google.colab.output.renderOutput(dataTable, element);\n",
              "        const docLink = document.createElement('div');\n",
              "        docLink.innerHTML = docLinkHtml;\n",
              "        element.appendChild(docLink);\n",
              "      }\n",
              "    </script>\n",
              "  </div>\n",
              "\n",
              "\n",
              "    <div id=\"df-b9ea6103-6c07-4bd1-a0fd-e533251bc6ff\">\n",
              "      <button class=\"colab-df-quickchart\" onclick=\"quickchart('df-b9ea6103-6c07-4bd1-a0fd-e533251bc6ff')\"\n",
              "                title=\"Suggest charts\"\n",
              "                style=\"display:none;\">\n",
              "\n",
              "<svg xmlns=\"http://www.w3.org/2000/svg\" height=\"24px\"viewBox=\"0 0 24 24\"\n",
              "     width=\"24px\">\n",
              "    <g>\n",
              "        <path d=\"M19 3H5c-1.1 0-2 .9-2 2v14c0 1.1.9 2 2 2h14c1.1 0 2-.9 2-2V5c0-1.1-.9-2-2-2zM9 17H7v-7h2v7zm4 0h-2V7h2v10zm4 0h-2v-4h2v4z\"/>\n",
              "    </g>\n",
              "</svg>\n",
              "      </button>\n",
              "\n",
              "<style>\n",
              "  .colab-df-quickchart {\n",
              "      --bg-color: #E8F0FE;\n",
              "      --fill-color: #1967D2;\n",
              "      --hover-bg-color: #E2EBFA;\n",
              "      --hover-fill-color: #174EA6;\n",
              "      --disabled-fill-color: #AAA;\n",
              "      --disabled-bg-color: #DDD;\n",
              "  }\n",
              "\n",
              "  [theme=dark] .colab-df-quickchart {\n",
              "      --bg-color: #3B4455;\n",
              "      --fill-color: #D2E3FC;\n",
              "      --hover-bg-color: #434B5C;\n",
              "      --hover-fill-color: #FFFFFF;\n",
              "      --disabled-bg-color: #3B4455;\n",
              "      --disabled-fill-color: #666;\n",
              "  }\n",
              "\n",
              "  .colab-df-quickchart {\n",
              "    background-color: var(--bg-color);\n",
              "    border: none;\n",
              "    border-radius: 50%;\n",
              "    cursor: pointer;\n",
              "    display: none;\n",
              "    fill: var(--fill-color);\n",
              "    height: 32px;\n",
              "    padding: 0;\n",
              "    width: 32px;\n",
              "  }\n",
              "\n",
              "  .colab-df-quickchart:hover {\n",
              "    background-color: var(--hover-bg-color);\n",
              "    box-shadow: 0 1px 2px rgba(60, 64, 67, 0.3), 0 1px 3px 1px rgba(60, 64, 67, 0.15);\n",
              "    fill: var(--button-hover-fill-color);\n",
              "  }\n",
              "\n",
              "  .colab-df-quickchart-complete:disabled,\n",
              "  .colab-df-quickchart-complete:disabled:hover {\n",
              "    background-color: var(--disabled-bg-color);\n",
              "    fill: var(--disabled-fill-color);\n",
              "    box-shadow: none;\n",
              "  }\n",
              "\n",
              "  .colab-df-spinner {\n",
              "    border: 2px solid var(--fill-color);\n",
              "    border-color: transparent;\n",
              "    border-bottom-color: var(--fill-color);\n",
              "    animation:\n",
              "      spin 1s steps(1) infinite;\n",
              "  }\n",
              "\n",
              "  @keyframes spin {\n",
              "    0% {\n",
              "      border-color: transparent;\n",
              "      border-bottom-color: var(--fill-color);\n",
              "      border-left-color: var(--fill-color);\n",
              "    }\n",
              "    20% {\n",
              "      border-color: transparent;\n",
              "      border-left-color: var(--fill-color);\n",
              "      border-top-color: var(--fill-color);\n",
              "    }\n",
              "    30% {\n",
              "      border-color: transparent;\n",
              "      border-left-color: var(--fill-color);\n",
              "      border-top-color: var(--fill-color);\n",
              "      border-right-color: var(--fill-color);\n",
              "    }\n",
              "    40% {\n",
              "      border-color: transparent;\n",
              "      border-right-color: var(--fill-color);\n",
              "      border-top-color: var(--fill-color);\n",
              "    }\n",
              "    60% {\n",
              "      border-color: transparent;\n",
              "      border-right-color: var(--fill-color);\n",
              "    }\n",
              "    80% {\n",
              "      border-color: transparent;\n",
              "      border-right-color: var(--fill-color);\n",
              "      border-bottom-color: var(--fill-color);\n",
              "    }\n",
              "    90% {\n",
              "      border-color: transparent;\n",
              "      border-bottom-color: var(--fill-color);\n",
              "    }\n",
              "  }\n",
              "</style>\n",
              "\n",
              "      <script>\n",
              "        async function quickchart(key) {\n",
              "          const quickchartButtonEl =\n",
              "            document.querySelector('#' + key + ' button');\n",
              "          quickchartButtonEl.disabled = true;  // To prevent multiple clicks.\n",
              "          quickchartButtonEl.classList.add('colab-df-spinner');\n",
              "          try {\n",
              "            const charts = await google.colab.kernel.invokeFunction(\n",
              "                'suggestCharts', [key], {});\n",
              "          } catch (error) {\n",
              "            console.error('Error during call to suggestCharts:', error);\n",
              "          }\n",
              "          quickchartButtonEl.classList.remove('colab-df-spinner');\n",
              "          quickchartButtonEl.classList.add('colab-df-quickchart-complete');\n",
              "        }\n",
              "        (() => {\n",
              "          let quickchartButtonEl =\n",
              "            document.querySelector('#df-b9ea6103-6c07-4bd1-a0fd-e533251bc6ff button');\n",
              "          quickchartButtonEl.style.display =\n",
              "            google.colab.kernel.accessAllowed ? 'block' : 'none';\n",
              "        })();\n",
              "      </script>\n",
              "    </div>\n",
              "\n",
              "  <div id=\"id_b245a8a6-1ac4-4f1f-9067-50e5ae351cc2\">\n",
              "    <style>\n",
              "      .colab-df-generate {\n",
              "        background-color: #E8F0FE;\n",
              "        border: none;\n",
              "        border-radius: 50%;\n",
              "        cursor: pointer;\n",
              "        display: none;\n",
              "        fill: #1967D2;\n",
              "        height: 32px;\n",
              "        padding: 0 0 0 0;\n",
              "        width: 32px;\n",
              "      }\n",
              "\n",
              "      .colab-df-generate:hover {\n",
              "        background-color: #E2EBFA;\n",
              "        box-shadow: 0px 1px 2px rgba(60, 64, 67, 0.3), 0px 1px 3px 1px rgba(60, 64, 67, 0.15);\n",
              "        fill: #174EA6;\n",
              "      }\n",
              "\n",
              "      [theme=dark] .colab-df-generate {\n",
              "        background-color: #3B4455;\n",
              "        fill: #D2E3FC;\n",
              "      }\n",
              "\n",
              "      [theme=dark] .colab-df-generate:hover {\n",
              "        background-color: #434B5C;\n",
              "        box-shadow: 0px 1px 3px 1px rgba(0, 0, 0, 0.15);\n",
              "        filter: drop-shadow(0px 1px 2px rgba(0, 0, 0, 0.3));\n",
              "        fill: #FFFFFF;\n",
              "      }\n",
              "    </style>\n",
              "    <button class=\"colab-df-generate\" onclick=\"generateWithVariable('holdings_df')\"\n",
              "            title=\"Generate code using this dataframe.\"\n",
              "            style=\"display:none;\">\n",
              "\n",
              "  <svg xmlns=\"http://www.w3.org/2000/svg\" height=\"24px\"viewBox=\"0 0 24 24\"\n",
              "       width=\"24px\">\n",
              "    <path d=\"M7,19H8.4L18.45,9,17,7.55,7,17.6ZM5,21V16.75L18.45,3.32a2,2,0,0,1,2.83,0l1.4,1.43a1.91,1.91,0,0,1,.58,1.4,1.91,1.91,0,0,1-.58,1.4L9.25,21ZM18.45,9,17,7.55Zm-12,3A5.31,5.31,0,0,0,4.9,8.1,5.31,5.31,0,0,0,1,6.5,5.31,5.31,0,0,0,4.9,4.9,5.31,5.31,0,0,0,6.5,1,5.31,5.31,0,0,0,8.1,4.9,5.31,5.31,0,0,0,12,6.5,5.46,5.46,0,0,0,6.5,12Z\"/>\n",
              "  </svg>\n",
              "    </button>\n",
              "    <script>\n",
              "      (() => {\n",
              "      const buttonEl =\n",
              "        document.querySelector('#id_b245a8a6-1ac4-4f1f-9067-50e5ae351cc2 button.colab-df-generate');\n",
              "      buttonEl.style.display =\n",
              "        google.colab.kernel.accessAllowed ? 'block' : 'none';\n",
              "\n",
              "      buttonEl.onclick = () => {\n",
              "        google.colab.notebook.generateWithVariable('holdings_df');\n",
              "      }\n",
              "      })();\n",
              "    </script>\n",
              "  </div>\n",
              "\n",
              "    </div>\n",
              "  </div>\n"
            ],
            "application/vnd.google.colaboratory.intrinsic+json": {
              "type": "dataframe",
              "variable_name": "holdings_df"
            }
          },
          "metadata": {},
          "execution_count": 44
        }
      ]
    },
    {
      "cell_type": "code",
      "source": [
        "# Example: Fetching instrument details for a stock (e.g., TATASTEEL on NSE)\n",
        "# try:\n",
        "#     instrument = kite.ltp(['NSE:TATASTEEL'])\n",
        "#     print(\"\\nInstrument details for TATASTEEL:\")\n",
        "#     print(instrument)\n",
        "# except Exception as e:\n",
        "#     print(f\"Error fetching instrument: {e}\")"
      ],
      "metadata": {
        "id": "mgqH9iIbspw2"
      },
      "execution_count": null,
      "outputs": []
    },
    {
      "cell_type": "code",
      "execution_count": 17,
      "metadata": {
        "id": "fuvV9dVFlwli"
      },
      "outputs": [],
      "source": [
        "from pyalgotrading.broker.broker_connection_zerodha import BrokerConnectionZerodha"
      ]
    },
    {
      "cell_type": "code",
      "execution_count": null,
      "metadata": {
        "id": "KbbEdJJllwlk"
      },
      "outputs": [],
      "source": [
        "# Get the request token from the above URL\n",
        "#request_token = \"jk0XrSlk8KlRujZsGD7Fw3trfmIcdY62\"\n",
        "#broker_connection.set_access_token(request_token)"
      ]
    },
    {
      "cell_type": "markdown",
      "metadata": {
        "id": "sYQuo1o1lwll"
      },
      "source": [
        "### Recipe 2: Query list of Instruments"
      ]
    },
    {
      "cell_type": "code",
      "execution_count": null,
      "metadata": {
        "id": "VE_U1snClwll",
        "outputId": "2d5644ad-ec54-4975-80ab-6845b869b621"
      },
      "outputs": [
        {
          "data": {
            "text/html": [
              "<div>\n",
              "<style scoped>\n",
              "    .dataframe tbody tr th:only-of-type {\n",
              "        vertical-align: middle;\n",
              "    }\n",
              "\n",
              "    .dataframe tbody tr th {\n",
              "        vertical-align: top;\n",
              "    }\n",
              "\n",
              "    .dataframe thead th {\n",
              "        text-align: right;\n",
              "    }\n",
              "</style>\n",
              "<table border=\"1\" class=\"dataframe\">\n",
              "  <thead>\n",
              "    <tr style=\"text-align: right;\">\n",
              "      <th></th>\n",
              "      <th>instrument_token</th>\n",
              "      <th>exchange_token</th>\n",
              "      <th>tradingsymbol</th>\n",
              "      <th>name</th>\n",
              "      <th>last_price</th>\n",
              "      <th>expiry</th>\n",
              "      <th>strike</th>\n",
              "      <th>tick_size</th>\n",
              "      <th>lot_size</th>\n",
              "      <th>instrument_type</th>\n",
              "      <th>segment</th>\n",
              "      <th>exchange</th>\n",
              "    </tr>\n",
              "  </thead>\n",
              "  <tbody>\n",
              "    <tr>\n",
              "      <th>0</th>\n",
              "      <td>540584966</td>\n",
              "      <td>2111660</td>\n",
              "      <td>EURINR20DEC77.7500CE</td>\n",
              "      <td>EURINR</td>\n",
              "      <td>0.0</td>\n",
              "      <td>2020-12-29</td>\n",
              "      <td>77.75</td>\n",
              "      <td>0.0025</td>\n",
              "      <td>1</td>\n",
              "      <td>CE</td>\n",
              "      <td>BCD-OPT</td>\n",
              "      <td>BCD</td>\n",
              "    </tr>\n",
              "    <tr>\n",
              "      <th>1</th>\n",
              "      <td>540578822</td>\n",
              "      <td>2111636</td>\n",
              "      <td>EURINR20DEC77.7500PE</td>\n",
              "      <td>EURINR</td>\n",
              "      <td>0.0</td>\n",
              "      <td>2020-12-29</td>\n",
              "      <td>77.75</td>\n",
              "      <td>0.0025</td>\n",
              "      <td>1</td>\n",
              "      <td>PE</td>\n",
              "      <td>BCD-OPT</td>\n",
              "      <td>BCD</td>\n",
              "    </tr>\n",
              "    <tr>\n",
              "      <th>2</th>\n",
              "      <td>540512774</td>\n",
              "      <td>2111378</td>\n",
              "      <td>EURINR20DEC78.0000CE</td>\n",
              "      <td>EURINR</td>\n",
              "      <td>0.0</td>\n",
              "      <td>2020-12-29</td>\n",
              "      <td>78.00</td>\n",
              "      <td>0.0025</td>\n",
              "      <td>1</td>\n",
              "      <td>CE</td>\n",
              "      <td>BCD-OPT</td>\n",
              "      <td>BCD</td>\n",
              "    </tr>\n",
              "    <tr>\n",
              "      <th>3</th>\n",
              "      <td>540506374</td>\n",
              "      <td>2111353</td>\n",
              "      <td>EURINR20DEC78.0000PE</td>\n",
              "      <td>EURINR</td>\n",
              "      <td>0.0</td>\n",
              "      <td>2020-12-29</td>\n",
              "      <td>78.00</td>\n",
              "      <td>0.0025</td>\n",
              "      <td>1</td>\n",
              "      <td>PE</td>\n",
              "      <td>BCD-OPT</td>\n",
              "      <td>BCD</td>\n",
              "    </tr>\n",
              "    <tr>\n",
              "      <th>4</th>\n",
              "      <td>540627462</td>\n",
              "      <td>2111826</td>\n",
              "      <td>EURINR20DEC78.2500CE</td>\n",
              "      <td>EURINR</td>\n",
              "      <td>0.0</td>\n",
              "      <td>2020-12-29</td>\n",
              "      <td>78.25</td>\n",
              "      <td>0.0025</td>\n",
              "      <td>1</td>\n",
              "      <td>CE</td>\n",
              "      <td>BCD-OPT</td>\n",
              "      <td>BCD</td>\n",
              "    </tr>\n",
              "    <tr>\n",
              "      <th>...</th>\n",
              "      <td>...</td>\n",
              "      <td>...</td>\n",
              "      <td>...</td>\n",
              "      <td>...</td>\n",
              "      <td>...</td>\n",
              "      <td>...</td>\n",
              "      <td>...</td>\n",
              "      <td>...</td>\n",
              "      <td>...</td>\n",
              "      <td>...</td>\n",
              "      <td>...</td>\n",
              "      <td>...</td>\n",
              "    </tr>\n",
              "    <tr>\n",
              "      <th>65392</th>\n",
              "      <td>978945</td>\n",
              "      <td>3824</td>\n",
              "      <td>ZODJRDMKJ</td>\n",
              "      <td>ZODIAC JRD-MKJ</td>\n",
              "      <td>0.0</td>\n",
              "      <td></td>\n",
              "      <td>0.00</td>\n",
              "      <td>0.0500</td>\n",
              "      <td>1</td>\n",
              "      <td>EQ</td>\n",
              "      <td>NSE</td>\n",
              "      <td>NSE</td>\n",
              "    </tr>\n",
              "    <tr>\n",
              "      <th>65393</th>\n",
              "      <td>2916865</td>\n",
              "      <td>11394</td>\n",
              "      <td>ZOTA</td>\n",
              "      <td>ZOTA HEALTH CARE</td>\n",
              "      <td>0.0</td>\n",
              "      <td></td>\n",
              "      <td>0.00</td>\n",
              "      <td>0.0500</td>\n",
              "      <td>1</td>\n",
              "      <td>EQ</td>\n",
              "      <td>NSE</td>\n",
              "      <td>NSE</td>\n",
              "    </tr>\n",
              "    <tr>\n",
              "      <th>65394</th>\n",
              "      <td>7437825</td>\n",
              "      <td>29054</td>\n",
              "      <td>ZUARI-BE</td>\n",
              "      <td>ZUARI AGRO CHEMICALS</td>\n",
              "      <td>0.0</td>\n",
              "      <td></td>\n",
              "      <td>0.00</td>\n",
              "      <td>0.0500</td>\n",
              "      <td>1</td>\n",
              "      <td>EQ</td>\n",
              "      <td>NSE</td>\n",
              "      <td>NSE</td>\n",
              "    </tr>\n",
              "    <tr>\n",
              "      <th>65395</th>\n",
              "      <td>979713</td>\n",
              "      <td>3827</td>\n",
              "      <td>ZUARIGLOB</td>\n",
              "      <td>ZUARI GLOBAL</td>\n",
              "      <td>0.0</td>\n",
              "      <td></td>\n",
              "      <td>0.00</td>\n",
              "      <td>0.0500</td>\n",
              "      <td>1</td>\n",
              "      <td>EQ</td>\n",
              "      <td>NSE</td>\n",
              "      <td>NSE</td>\n",
              "    </tr>\n",
              "    <tr>\n",
              "      <th>65396</th>\n",
              "      <td>4514561</td>\n",
              "      <td>17635</td>\n",
              "      <td>ZYDUSWELL</td>\n",
              "      <td>ZYDUS WELLNESS</td>\n",
              "      <td>0.0</td>\n",
              "      <td></td>\n",
              "      <td>0.00</td>\n",
              "      <td>0.0500</td>\n",
              "      <td>1</td>\n",
              "      <td>EQ</td>\n",
              "      <td>NSE</td>\n",
              "      <td>NSE</td>\n",
              "    </tr>\n",
              "  </tbody>\n",
              "</table>\n",
              "<p>65397 rows × 12 columns</p>\n",
              "</div>"
            ],
            "text/plain": [
              "       instrument_token exchange_token         tradingsymbol  \\\n",
              "0             540584966        2111660  EURINR20DEC77.7500CE   \n",
              "1             540578822        2111636  EURINR20DEC77.7500PE   \n",
              "2             540512774        2111378  EURINR20DEC78.0000CE   \n",
              "3             540506374        2111353  EURINR20DEC78.0000PE   \n",
              "4             540627462        2111826  EURINR20DEC78.2500CE   \n",
              "...                 ...            ...                   ...   \n",
              "65392            978945           3824             ZODJRDMKJ   \n",
              "65393           2916865          11394                  ZOTA   \n",
              "65394           7437825          29054              ZUARI-BE   \n",
              "65395            979713           3827             ZUARIGLOB   \n",
              "65396           4514561          17635             ZYDUSWELL   \n",
              "\n",
              "                       name  last_price      expiry  strike  tick_size  \\\n",
              "0                    EURINR         0.0  2020-12-29   77.75     0.0025   \n",
              "1                    EURINR         0.0  2020-12-29   77.75     0.0025   \n",
              "2                    EURINR         0.0  2020-12-29   78.00     0.0025   \n",
              "3                    EURINR         0.0  2020-12-29   78.00     0.0025   \n",
              "4                    EURINR         0.0  2020-12-29   78.25     0.0025   \n",
              "...                     ...         ...         ...     ...        ...   \n",
              "65392        ZODIAC JRD-MKJ         0.0                0.00     0.0500   \n",
              "65393      ZOTA HEALTH CARE         0.0                0.00     0.0500   \n",
              "65394  ZUARI AGRO CHEMICALS         0.0                0.00     0.0500   \n",
              "65395          ZUARI GLOBAL         0.0                0.00     0.0500   \n",
              "65396        ZYDUS WELLNESS         0.0                0.00     0.0500   \n",
              "\n",
              "       lot_size instrument_type  segment exchange  \n",
              "0             1              CE  BCD-OPT      BCD  \n",
              "1             1              PE  BCD-OPT      BCD  \n",
              "2             1              CE  BCD-OPT      BCD  \n",
              "3             1              PE  BCD-OPT      BCD  \n",
              "4             1              CE  BCD-OPT      BCD  \n",
              "...         ...             ...      ...      ...  \n",
              "65392         1              EQ      NSE      NSE  \n",
              "65393         1              EQ      NSE      NSE  \n",
              "65394         1              EQ      NSE      NSE  \n",
              "65395         1              EQ      NSE      NSE  \n",
              "65396         1              EQ      NSE      NSE  \n",
              "\n",
              "[65397 rows x 12 columns]"
            ]
          },
          "execution_count": 4,
          "metadata": {},
          "output_type": "execute_result"
        }
      ],
      "source": [
        "instruments = broker_connection.get_all_instruments()\n",
        "instruments"
      ]
    },
    {
      "cell_type": "code",
      "execution_count": null,
      "metadata": {
        "id": "2ST1YrWglwlm",
        "outputId": "47c25ae7-aae5-46cd-e0ec-330e170b0f24"
      },
      "outputs": [
        {
          "name": "stdout",
          "output_type": "stream",
          "text": [
            "Total instruments: 65397\n"
          ]
        }
      ],
      "source": [
        "print(f'Total instruments: {len(instruments)}')"
      ]
    },
    {
      "cell_type": "markdown",
      "metadata": {
        "id": "mDOLcSrElwlm"
      },
      "source": [
        "### Recipe 3: Fetch an Instrument"
      ]
    },
    {
      "cell_type": "code",
      "execution_count": null,
      "metadata": {
        "id": "HnpC7XIClwlm",
        "outputId": "b9b1064a-1100-44cc-ca2c-595b891fc896"
      },
      "outputs": [
        {
          "data": {
            "text/plain": [
              "segment: NSE\n",
              "exchange: NSE\n",
              "tradingsymbol: TATASTEEL\n",
              "broker_token: 895745\n",
              "tick_size: 0.05\n",
              "lot_size: 1\n",
              "expiry: \n",
              "strike_price: 0.0"
            ]
          },
          "execution_count": 6,
          "metadata": {},
          "output_type": "execute_result"
        }
      ],
      "source": [
        "broker_connection.get_instrument(segment='NSE', tradingsymbol='TATASTEEL')"
      ]
    },
    {
      "cell_type": "markdown",
      "metadata": {
        "id": "3xN2kEiwlwln"
      },
      "source": [
        "### Recipe 4: Query list of Exchanges"
      ]
    },
    {
      "cell_type": "code",
      "execution_count": null,
      "metadata": {
        "id": "hpK-q607lwln",
        "outputId": "18479399-80d0-4217-9ded-96340b80f0ae"
      },
      "outputs": [
        {
          "name": "stdout",
          "output_type": "stream",
          "text": [
            "['BCD' 'BSE' 'NSE' 'CDS' 'MCX' 'NFO']\n"
          ]
        }
      ],
      "source": [
        "exchanges = instruments.exchange.unique()\n",
        "print(exchanges)"
      ]
    },
    {
      "cell_type": "markdown",
      "metadata": {
        "id": "m-ZmmQ8Plwln"
      },
      "source": [
        "### Recipe 5: Query list of Segments"
      ]
    },
    {
      "cell_type": "code",
      "execution_count": null,
      "metadata": {
        "id": "6dRUiIuzlwlo",
        "outputId": "7c2b4198-353a-4142-ff06-a5d6868f70aa"
      },
      "outputs": [
        {
          "name": "stdout",
          "output_type": "stream",
          "text": [
            "['BCD-OPT' 'BCD-FUT' 'BCD' 'BSE' 'INDICES' 'CDS-OPT' 'CDS-FUT' 'MCX-FUT'\n",
            " 'MCX-OPT' 'NFO-OPT' 'NFO-FUT' 'NSE']\n"
          ]
        }
      ],
      "source": [
        "segments = instruments.segment.unique()\n",
        "print(segments)"
      ]
    },
    {
      "cell_type": "markdown",
      "metadata": {
        "id": "lCjic_fnlwlo"
      },
      "source": [
        "### Recipe 6: Query support for Order Transaction Types, Order Types, Order Codes & Order Varieties"
      ]
    },
    {
      "cell_type": "code",
      "execution_count": null,
      "metadata": {
        "id": "sLRtFEfPlwlp"
      },
      "outputs": [],
      "source": [
        "from pyalgotrading.broker.broker_connection_zerodha import BrokerConnectionZerodha"
      ]
    },
    {
      "cell_type": "code",
      "execution_count": null,
      "metadata": {
        "id": "0ju33KJ2lwlp",
        "outputId": "5f33f2e0-0f0b-4dd8-b760-399fea629732"
      },
      "outputs": [
        {
          "data": {
            "text/plain": [
              "[<BrokerOrderTransactionTypeConstants.BUY: 'BUY'>,\n",
              " <BrokerOrderTransactionTypeConstants.SELL: 'SELL'>]"
            ]
          },
          "execution_count": 10,
          "metadata": {},
          "output_type": "execute_result"
        }
      ],
      "source": [
        "list(BrokerConnectionZerodha.ORDER_TRANSACTION_TYPE_MAP.keys())"
      ]
    },
    {
      "cell_type": "code",
      "execution_count": null,
      "metadata": {
        "id": "piYAZV6Ylwlp",
        "outputId": "1ecf4710-f7eb-4083-8d96-1b320435957c"
      },
      "outputs": [
        {
          "data": {
            "text/plain": [
              "[<BrokerOrderVarietyConstants.MARKET: 'ORDER_VARIETY_MARKET'>,\n",
              " <BrokerOrderVarietyConstants.LIMIT: 'ORDER_VARIETY_LIMIT'>,\n",
              " <BrokerOrderVarietyConstants.STOPLOSS_LIMIT: 'ORDER_VARIETY_STOPLOSS_LIMIT'>,\n",
              " <BrokerOrderVarietyConstants.STOPLOSS_MARKET: 'ORDER_VARIETY_STOPLOSS_MARKET'>]"
            ]
          },
          "execution_count": 11,
          "metadata": {},
          "output_type": "execute_result"
        }
      ],
      "source": [
        "list(BrokerConnectionZerodha.ORDER_VARIETY_MAP.keys())"
      ]
    },
    {
      "cell_type": "code",
      "execution_count": null,
      "metadata": {
        "id": "Mlp6NiTSlwlq",
        "outputId": "7692c545-44a6-47b7-b83d-b4c46747db9c"
      },
      "outputs": [
        {
          "data": {
            "text/plain": [
              "[<BrokerOrderTypeConstants.REGULAR: 'ORDER_TYPE_REGULAR'>,\n",
              " <BrokerOrderTypeConstants.BRACKET: 'ORDER_TYPE_BRACKET'>,\n",
              " <BrokerOrderTypeConstants.COVER: 'ORDER_TYPE_COVER'>,\n",
              " <BrokerOrderTypeConstants.AMO: 'ORDER_TYPE_AFTER_MARKET_ORDER'>]"
            ]
          },
          "execution_count": 12,
          "metadata": {},
          "output_type": "execute_result"
        }
      ],
      "source": [
        "list(BrokerConnectionZerodha.ORDER_TYPE_MAP.keys())"
      ]
    },
    {
      "cell_type": "code",
      "execution_count": null,
      "metadata": {
        "id": "lAEZ_WXElwlq",
        "outputId": "0639efeb-3374-4591-c657-bf6a29b9c368"
      },
      "outputs": [
        {
          "data": {
            "text/plain": [
              "[<BrokerOrderCodeConstants.INTRADAY: 'ORDER_CODE_INTRADAY'>,\n",
              " <BrokerOrderCodeConstants.DELIVERY: 'ORDER_CODE_DELIVERY_T0'>]"
            ]
          },
          "execution_count": 13,
          "metadata": {},
          "output_type": "execute_result"
        }
      ],
      "source": [
        "list(BrokerConnectionZerodha.ORDER_CODE_MAP.keys())"
      ]
    },
    {
      "cell_type": "markdown",
      "metadata": {
        "id": "4MPQvKaHlwlr"
      },
      "source": [
        "### Recipe 7: Place a simple REGULAR order"
      ]
    },
    {
      "cell_type": "code",
      "execution_count": null,
      "metadata": {
        "id": "x2AZ0e77lwlr"
      },
      "outputs": [],
      "source": [
        "from pyalgotrading.constants import *"
      ]
    },
    {
      "cell_type": "code",
      "execution_count": null,
      "metadata": {
        "id": "xiBcBdJElwlr"
      },
      "outputs": [],
      "source": [
        "instrument = broker_connection.get_instrument(segment='NSE', tradingsymbol='TATASTEEL')"
      ]
    },
    {
      "cell_type": "code",
      "execution_count": null,
      "metadata": {
        "id": "jjqtbGnhlwlr",
        "outputId": "8f86318c-a0b6-4822-e586-85ac024df97e"
      },
      "outputs": [
        {
          "name": "stdout",
          "output_type": "stream",
          "text": [
            "191209000001676\n"
          ]
        }
      ],
      "source": [
        "# Place a Simple Regular order - Buy, Regular, Intraday, Market order\n",
        "order_id = broker_connection.place_order(instrument=instrument,\n",
        "                                         order_transaction_type=BrokerOrderTransactionTypeConstants.BUY,\n",
        "                                         order_type=BrokerOrderTypeConstants.REGULAR,\n",
        "                                         order_code=BrokerOrderCodeConstants.INTRADAY,\n",
        "                                         order_variety=BrokerOrderVarietyConstants.MARKET,\n",
        "                                         quantity=1)\n",
        "order_id\n",
        "\n",
        "# Check your broker site & you will see an order placed with these parameters & order_id"
      ]
    },
    {
      "cell_type": "markdown",
      "metadata": {
        "id": "-_mnHzCylwls"
      },
      "source": [
        "### Recipe 8: Place a simple BRACKET Order"
      ]
    },
    {
      "cell_type": "code",
      "execution_count": null,
      "metadata": {
        "id": "xlXcr6MBlwls"
      },
      "outputs": [],
      "source": [
        "from pyalgotrading.constants import *"
      ]
    },
    {
      "cell_type": "code",
      "execution_count": null,
      "metadata": {
        "id": "CYwW9dGBlwls"
      },
      "outputs": [],
      "source": [
        "instrument = broker_connection.get_instrument(segment='NSE', tradingsymbol='ICICIBANK')"
      ]
    },
    {
      "cell_type": "code",
      "execution_count": null,
      "metadata": {
        "id": "8TCpA0sWlwlt",
        "outputId": "a56fc310-77f4-40e4-f6e1-20c8ef802978"
      },
      "outputs": [
        {
          "name": "stdout",
          "output_type": "stream",
          "text": [
            "191212001268839\n"
          ]
        }
      ],
      "source": [
        "# Place a simple BRACKET order - Buy, Bracket, Intraday, Limit order\n",
        "ltp = broker_connection.get_ltp(instrument)\n",
        "order_id = broker_connection.place_order(instrument=instrument,\n",
        "                                         order_transaction_type=BrokerOrderTransactionTypeConstants.BUY,\n",
        "                                         order_type=BrokerOrderTypeConstants.BRACKET,\n",
        "                                         order_code=BrokerOrderCodeConstants.INTRADAY,\n",
        "                                         order_variety=BrokerOrderVarietyConstants.LIMIT,\n",
        "                                         quantity=1,\n",
        "                                         price=ltp-1,\n",
        "                                         stoploss=2,\n",
        "                                         target=2)\n",
        "order_id\n",
        "\n",
        "# Check your broker site & you will see an order placed with these parameters & order_id"
      ]
    },
    {
      "cell_type": "markdown",
      "metadata": {
        "id": "dqkk77palwlt"
      },
      "source": [
        "### Recipe 9: Place a simple DELIVERY order"
      ]
    },
    {
      "cell_type": "code",
      "execution_count": null,
      "metadata": {
        "id": "pljeNHNllwlt"
      },
      "outputs": [],
      "source": [
        "from pyalgotrading.constants import *"
      ]
    },
    {
      "cell_type": "code",
      "execution_count": null,
      "metadata": {
        "id": "3NtH8qY6lwlt"
      },
      "outputs": [],
      "source": [
        "instrument = broker_connection.get_instrument(segment='NSE', tradingsymbol='AXISBANK')"
      ]
    },
    {
      "cell_type": "code",
      "execution_count": null,
      "metadata": {
        "id": "8nCNsxoBlwlt",
        "outputId": "1b3601e7-accd-42ce-f32f-f68d482f7dd4"
      },
      "outputs": [
        {
          "name": "stdout",
          "output_type": "stream",
          "text": [
            "191212001268956\n"
          ]
        }
      ],
      "source": [
        "# Place a simple DELIVERY order - Sell, Regular, Delivery, Market order\n",
        "order_id = broker_connection.place_order(instrument=instrument,\n",
        "                                         order_transaction_type=BrokerOrderTransactionTypeConstants.SELL,\n",
        "                                         order_type=BrokerOrderTypeConstants.REGULAR,\n",
        "                                         order_code=BrokerOrderCodeConstants.DELIVERY,\n",
        "                                         order_variety=BrokerOrderVarietyConstants.MARKET,\n",
        "                                         quantity=1)\n",
        "order_id\n",
        "\n",
        "# Check your broker site & you will see an order placed with these parameters & order_id"
      ]
    },
    {
      "cell_type": "markdown",
      "metadata": {
        "id": "FzAtaapllwlu"
      },
      "source": [
        "### Recipe 10: Place a simple INTRADAY order"
      ]
    },
    {
      "cell_type": "code",
      "execution_count": null,
      "metadata": {
        "id": "ab-AQPGolwlv"
      },
      "outputs": [],
      "source": [
        "from pyalgotrading.constants import *"
      ]
    },
    {
      "cell_type": "code",
      "execution_count": null,
      "metadata": {
        "id": "Y4iOtvTElwlv"
      },
      "outputs": [],
      "source": [
        "instrument = broker_connection.get_instrument(segment='NSE', tradingsymbol='HDFCBANK')"
      ]
    },
    {
      "cell_type": "code",
      "execution_count": null,
      "metadata": {
        "id": "B2JkjXnxlwlv",
        "outputId": "9e47b165-4001-4265-dda6-87b03d392345"
      },
      "outputs": [
        {
          "name": "stdout",
          "output_type": "stream",
          "text": [
            "191212001269042\n"
          ]
        }
      ],
      "source": [
        "# Place a simple INTRADAY order - Sell, Bracket, Intraday, Limit order\n",
        "ltp = broker_connection.get_ltp(instrument)\n",
        "order_id = broker_connection.place_order(instrument=instrument,\n",
        "                                         order_transaction_type=BrokerOrderTransactionTypeConstants.SELL,\n",
        "                                         order_type=BrokerOrderTypeConstants.BRACKET,\n",
        "                                         order_code=BrokerOrderCodeConstants.INTRADAY,\n",
        "                                         order_variety=BrokerOrderVarietyConstants.LIMIT,\n",
        "                                         quantity=1,\n",
        "                                         price=ltp+1,\n",
        "                                         stoploss=2,\n",
        "                                         target=2)\n",
        "order_id\n",
        "\n",
        "# Check you broker site & you will see an order placed with these parameters & order_id"
      ]
    },
    {
      "cell_type": "markdown",
      "metadata": {
        "id": "KJfwDxGJlwlw"
      },
      "source": [
        "### Recipe 11: Query Margins & Funds"
      ]
    },
    {
      "cell_type": "code",
      "execution_count": null,
      "metadata": {
        "id": "m_9xT7bslwlw",
        "outputId": "953bd366-148b-41a8-ba23-67ec420ec19a"
      },
      "outputs": [
        {
          "data": {
            "text/plain": [
              "{'enabled': True,\n",
              " 'net': 1623.67,\n",
              " 'available': {'adhoc_margin': 0,\n",
              "  'cash': 1623.67,\n",
              "  'opening_balance': 1623.67,\n",
              "  'live_balance': 1623.67,\n",
              "  'collateral': 0,\n",
              "  'intraday_payin': 0},\n",
              " 'utilised': {'debits': 0,\n",
              "  'exposure': 0,\n",
              "  'm2m_realised': 0,\n",
              "  'm2m_unrealised': 0,\n",
              "  'option_premium': 0,\n",
              "  'payout': 0,\n",
              "  'span': 0,\n",
              "  'holding_sales': 0,\n",
              "  'turnover': 0,\n",
              "  'liquid_collateral': 0,\n",
              "  'stock_collateral': 0}}"
            ]
          },
          "execution_count": 26,
          "metadata": {},
          "output_type": "execute_result"
        }
      ],
      "source": [
        "equity_margins = broker_connection.get_margins('equity')\n",
        "equity_margins"
      ]
    },
    {
      "cell_type": "code",
      "execution_count": null,
      "metadata": {
        "id": "hTIeHyUhlwlw",
        "outputId": "1f833943-934c-4bbc-ae05-1a0f0a6e2610"
      },
      "outputs": [
        {
          "data": {
            "text/plain": [
              "1623.67"
            ]
          },
          "execution_count": 27,
          "metadata": {},
          "output_type": "execute_result"
        }
      ],
      "source": [
        "equity_funds = broker_connection.get_funds('equity')\n",
        "equity_funds"
      ]
    },
    {
      "cell_type": "code",
      "execution_count": null,
      "metadata": {
        "id": "T8fQukZelwlx",
        "outputId": "7ffb30ed-795c-4cfb-9cc9-7ac234808780"
      },
      "outputs": [
        {
          "data": {
            "text/plain": [
              "{'enabled': True,\n",
              " 'net': 0,\n",
              " 'available': {'adhoc_margin': 0,\n",
              "  'cash': 0,\n",
              "  'opening_balance': 0,\n",
              "  'live_balance': 0,\n",
              "  'collateral': 0,\n",
              "  'intraday_payin': 0},\n",
              " 'utilised': {'debits': 0,\n",
              "  'exposure': 0,\n",
              "  'm2m_realised': 0,\n",
              "  'm2m_unrealised': 0,\n",
              "  'option_premium': 0,\n",
              "  'payout': 0,\n",
              "  'span': 0,\n",
              "  'holding_sales': 0,\n",
              "  'turnover': 0,\n",
              "  'liquid_collateral': 0,\n",
              "  'stock_collateral': 0}}"
            ]
          },
          "execution_count": 28,
          "metadata": {},
          "output_type": "execute_result"
        }
      ],
      "source": [
        "commodity_margins = broker_connection.get_margins('commodity')\n",
        "commodity_margins"
      ]
    },
    {
      "cell_type": "code",
      "execution_count": null,
      "metadata": {
        "id": "CYt90ur8lwlx",
        "outputId": "770d2071-ccf7-4170-ba54-e80dcdf4e438"
      },
      "outputs": [
        {
          "data": {
            "text/plain": [
              "0"
            ]
          },
          "execution_count": 29,
          "metadata": {},
          "output_type": "execute_result"
        }
      ],
      "source": [
        "commodity_funds = broker_connection.get_funds('commodity')\n",
        "commodity_funds"
      ]
    },
    {
      "cell_type": "markdown",
      "metadata": {
        "id": "AhOXNlHWlwlx"
      },
      "source": [
        "### Recipe 12: Calculate Brokerage charged"
      ]
    },
    {
      "cell_type": "code",
      "execution_count": null,
      "metadata": {
        "id": "5AxrArlslwly",
        "outputId": "6be7ca05-678c-4ffd-a8d3-f51f699cf528"
      },
      "outputs": [
        {
          "name": "stdout",
          "output_type": "stream",
          "text": [
            "Brokerage charged per trade: 0.1245\n"
          ]
        }
      ],
      "source": [
        "entry_price = 1245\n",
        "brokerage = (0.01 * 1245)/100\n",
        "print(f'Brokerage charged per trade: {brokerage:.4f}')"
      ]
    },
    {
      "cell_type": "code",
      "execution_count": null,
      "metadata": {
        "id": "KH47LfBNlwly",
        "outputId": "3765d4a4-106b-4563-9fa2-189cfb8ee8e7"
      },
      "outputs": [
        {
          "name": "stdout",
          "output_type": "stream",
          "text": [
            "Total Brokerage charged for 10 trades: 1.2450\n"
          ]
        }
      ],
      "source": [
        "# Assuming, 10 trades were placed in a day with an average price of 1245, we calculate the total brokerage involved\n",
        "total_brokerage = 10 * (0.01 * 1245) / 100\n",
        "print(f'Total Brokerage charged for 10 trades: {total_brokerage:.4f}')"
      ]
    },
    {
      "cell_type": "markdown",
      "metadata": {
        "id": "8v2HI6SVlwly"
      },
      "source": [
        "### Recipe 13: Calculate Government taxes charged"
      ]
    },
    {
      "cell_type": "code",
      "execution_count": null,
      "metadata": {
        "id": "MFqNSdcNlwly",
        "outputId": "2682ad0f-7fc3-4f4b-e806-cbcc00d94765"
      },
      "outputs": [
        {
          "name": "stdout",
          "output_type": "stream",
          "text": [
            "Government taxes charged per trade: 1.2450\n"
          ]
        }
      ],
      "source": [
        "entry_price = 1245\n",
        "brokerage = (0.1 * 1245)/100\n",
        "print(f'Government taxes charged per trade: {brokerage:.4f}')"
      ]
    },
    {
      "cell_type": "code",
      "execution_count": null,
      "metadata": {
        "id": "ghEpEqDGlwlz",
        "outputId": "bf4eb5dd-9001-4316-82f1-13576cb86dd5"
      },
      "outputs": [
        {
          "name": "stdout",
          "output_type": "stream",
          "text": [
            "Total Government taxes charged for 10 trades: 12.4500\n"
          ]
        }
      ],
      "source": [
        "# Assuming, 10 trades were placed in a day with an average price of 1245, we calculate the total brokerage involved\n",
        "total_brokerage = 10 * (0.1 * 1245) / 100\n",
        "print(f'Total Government taxes charged for 10 trades: {total_brokerage:.4f}')"
      ]
    },
    {
      "cell_type": "code",
      "metadata": {
        "colab": {
          "base_uri": "https://localhost:8080/"
        },
        "id": "dbcb25ee",
        "outputId": "ed75c879-eab9-4d04-8f67-b867430a07ab"
      },
      "source": [
        "!pip install kiteconnect -v"
      ],
      "execution_count": 5,
      "outputs": [
        {
          "output_type": "stream",
          "name": "stdout",
          "text": [
            "Using pip 24.1.2 from /usr/local/lib/python3.11/dist-packages/pip (python 3.11)\n",
            "Collecting kiteconnect\n",
            "  Obtaining dependency information for kiteconnect from https://files.pythonhosted.org/packages/4c/54/45fb78d0cf6650c74f9ab070147197bd37db8f92e6475e63be1ca837a4ff/kiteconnect-5.0.1-py3-none-any.whl.metadata\n",
            "  Downloading kiteconnect-5.0.1-py3-none-any.whl.metadata (8.0 kB)\n",
            "Collecting service-identity>=18.1.0 (from kiteconnect)\n",
            "  Obtaining dependency information for service-identity>=18.1.0 from https://files.pythonhosted.org/packages/08/2c/ca6dd598b384bc1ce581e24aaae0f2bed4ccac57749d5c3befbb5e742081/service_identity-24.2.0-py3-none-any.whl.metadata\n",
            "  Downloading service_identity-24.2.0-py3-none-any.whl.metadata (5.1 kB)\n",
            "Requirement already satisfied: requests>=2.18.4 in /usr/local/lib/python3.11/dist-packages (from kiteconnect) (2.32.3)\n",
            "Requirement already satisfied: six>=1.11.0 in /usr/local/lib/python3.11/dist-packages (from kiteconnect) (1.17.0)\n",
            "Requirement already satisfied: pyOpenSSL>=17.5.0 in /usr/local/lib/python3.11/dist-packages (from kiteconnect) (24.2.1)\n",
            "Requirement already satisfied: python-dateutil>=2.6.1 in /usr/local/lib/python3.11/dist-packages (from kiteconnect) (2.9.0.post0)\n",
            "Collecting autobahn==19.11.2 (from autobahn[twisted]==19.11.2->kiteconnect)\n",
            "  Obtaining dependency information for autobahn==19.11.2 from https://files.pythonhosted.org/packages/84/05/828b0c5a558b67c8afd64e233976553298688eee39c78de3a8c8cf98c91f/autobahn-19.11.2-py2.py3-none-any.whl.metadata\n",
            "  Downloading autobahn-19.11.2-py2.py3-none-any.whl.metadata (16 kB)\n",
            "Collecting txaio>=18.8.1 (from autobahn==19.11.2->autobahn[twisted]==19.11.2->kiteconnect)\n",
            "  Obtaining dependency information for txaio>=18.8.1 from https://files.pythonhosted.org/packages/52/56/aff5af8caa210321d0c206eb19897a4e0b29b4e24c4e24226325950efe0b/txaio-25.6.1-py2.py3-none-any.whl.metadata\n",
            "  Using cached txaio-25.6.1-py2.py3-none-any.whl.metadata (7.1 kB)\n",
            "Requirement already satisfied: cryptography>=2.7 in /usr/local/lib/python3.11/dist-packages (from autobahn==19.11.2->autobahn[twisted]==19.11.2->kiteconnect) (43.0.3)\n",
            "Collecting zope.interface>=3.6.0 (from autobahn[twisted]==19.11.2->kiteconnect)\n",
            "  Obtaining dependency information for zope.interface>=3.6.0 from https://files.pythonhosted.org/packages/9f/aa/1a28c02815fe1ca282b54f6705b9ddba20328fabdc37b8cf73fc06b172f0/zope.interface-7.2-cp311-cp311-manylinux_2_5_x86_64.manylinux1_x86_64.manylinux_2_17_x86_64.manylinux2014_x86_64.whl.metadata\n",
            "  Using cached zope.interface-7.2-cp311-cp311-manylinux_2_5_x86_64.manylinux1_x86_64.manylinux_2_17_x86_64.manylinux2014_x86_64.whl.metadata (44 kB)\n",
            "Collecting Twisted>=12.1.0 (from autobahn[twisted]==19.11.2->kiteconnect)\n",
            "  Obtaining dependency information for Twisted>=12.1.0 from https://files.pythonhosted.org/packages/eb/66/ab7efd8941f0bc7b2bd555b0f0471bff77df4c88e0cc31120c82737fec77/twisted-25.5.0-py3-none-any.whl.metadata\n",
            "  Using cached twisted-25.5.0-py3-none-any.whl.metadata (22 kB)\n",
            "Requirement already satisfied: charset-normalizer<4,>=2 in /usr/local/lib/python3.11/dist-packages (from requests>=2.18.4->kiteconnect) (3.4.2)\n",
            "Requirement already satisfied: idna<4,>=2.5 in /usr/local/lib/python3.11/dist-packages (from requests>=2.18.4->kiteconnect) (3.10)\n",
            "Requirement already satisfied: urllib3<3,>=1.21.1 in /usr/local/lib/python3.11/dist-packages (from requests>=2.18.4->kiteconnect) (2.4.0)\n",
            "Requirement already satisfied: certifi>=2017.4.17 in /usr/local/lib/python3.11/dist-packages (from requests>=2.18.4->kiteconnect) (2025.6.15)\n",
            "Requirement already satisfied: attrs>=19.1.0 in /usr/local/lib/python3.11/dist-packages (from service-identity>=18.1.0->kiteconnect) (25.3.0)\n",
            "Requirement already satisfied: pyasn1 in /usr/local/lib/python3.11/dist-packages (from service-identity>=18.1.0->kiteconnect) (0.6.1)\n",
            "Requirement already satisfied: pyasn1-modules in /usr/local/lib/python3.11/dist-packages (from service-identity>=18.1.0->kiteconnect) (0.4.2)\n",
            "Requirement already satisfied: cffi>=1.12 in /usr/local/lib/python3.11/dist-packages (from cryptography>=2.7->autobahn==19.11.2->autobahn[twisted]==19.11.2->kiteconnect) (1.17.1)\n",
            "Collecting automat>=24.8.0 (from Twisted>=12.1.0->autobahn[twisted]==19.11.2->kiteconnect)\n",
            "  Obtaining dependency information for automat>=24.8.0 from https://files.pythonhosted.org/packages/02/ff/1175b0b7371e46244032d43a56862d0af455823b5280a50c63d99cc50f18/automat-25.4.16-py3-none-any.whl.metadata\n",
            "  Using cached automat-25.4.16-py3-none-any.whl.metadata (8.4 kB)\n",
            "Collecting constantly>=15.1 (from Twisted>=12.1.0->autobahn[twisted]==19.11.2->kiteconnect)\n",
            "  Obtaining dependency information for constantly>=15.1 from https://files.pythonhosted.org/packages/b8/40/c199d095151addf69efdb4b9ca3a4f20f70e20508d6222bffb9b76f58573/constantly-23.10.4-py3-none-any.whl.metadata\n",
            "  Using cached constantly-23.10.4-py3-none-any.whl.metadata (1.8 kB)\n",
            "Collecting hyperlink>=17.1.1 (from Twisted>=12.1.0->autobahn[twisted]==19.11.2->kiteconnect)\n",
            "  Obtaining dependency information for hyperlink>=17.1.1 from https://files.pythonhosted.org/packages/6e/aa/8caf6a0a3e62863cbb9dab27135660acba46903b703e224f14f447e57934/hyperlink-21.0.0-py2.py3-none-any.whl.metadata\n",
            "  Using cached hyperlink-21.0.0-py2.py3-none-any.whl.metadata (1.5 kB)\n",
            "Collecting incremental>=24.7.0 (from Twisted>=12.1.0->autobahn[twisted]==19.11.2->kiteconnect)\n",
            "  Obtaining dependency information for incremental>=24.7.0 from https://files.pythonhosted.org/packages/0d/38/221e5b2ae676a3938c2c1919131410c342b6efc2baffeda395dd66eeca8f/incremental-24.7.2-py3-none-any.whl.metadata\n",
            "  Using cached incremental-24.7.2-py3-none-any.whl.metadata (8.1 kB)\n",
            "Requirement already satisfied: typing-extensions>=4.2.0 in /usr/local/lib/python3.11/dist-packages (from Twisted>=12.1.0->autobahn[twisted]==19.11.2->kiteconnect) (4.14.0)\n",
            "Requirement already satisfied: setuptools in /usr/local/lib/python3.11/dist-packages (from zope.interface>=3.6.0->autobahn[twisted]==19.11.2->kiteconnect) (75.2.0)\n",
            "Requirement already satisfied: pycparser in /usr/local/lib/python3.11/dist-packages (from cffi>=1.12->cryptography>=2.7->autobahn==19.11.2->autobahn[twisted]==19.11.2->kiteconnect) (2.22)\n",
            "Downloading kiteconnect-5.0.1-py3-none-any.whl (24 kB)\n",
            "Downloading autobahn-19.11.2-py2.py3-none-any.whl (771 kB)\n",
            "\u001b[2K   \u001b[90m━━━━━━━━━━━━━━━━━━━━━━━━━━━━━━━━━━━━━━━━\u001b[0m \u001b[32m771.5/771.5 kB\u001b[0m \u001b[31m36.9 MB/s\u001b[0m eta \u001b[36m0:00:00\u001b[0m\n",
            "\u001b[?25hDownloading service_identity-24.2.0-py3-none-any.whl (11 kB)\n",
            "Using cached twisted-25.5.0-py3-none-any.whl (3.2 MB)\n",
            "Using cached txaio-25.6.1-py2.py3-none-any.whl (31 kB)\n",
            "Using cached zope.interface-7.2-cp311-cp311-manylinux_2_5_x86_64.manylinux1_x86_64.manylinux_2_17_x86_64.manylinux2014_x86_64.whl (259 kB)\n",
            "Using cached automat-25.4.16-py3-none-any.whl (42 kB)\n",
            "Using cached constantly-23.10.4-py3-none-any.whl (13 kB)\n",
            "Using cached hyperlink-21.0.0-py2.py3-none-any.whl (74 kB)\n",
            "Using cached incremental-24.7.2-py3-none-any.whl (20 kB)\n",
            "Installing collected packages: zope.interface, txaio, incremental, hyperlink, constantly, automat, Twisted, service-identity, autobahn, kiteconnect\n",
            "  changing mode of /usr/local/bin/automat-visualize to 755\n",
            "  changing mode of /usr/local/bin/cftp to 755\n",
            "  changing mode of /usr/local/bin/ckeygen to 755\n",
            "  changing mode of /usr/local/bin/conch to 755\n",
            "  changing mode of /usr/local/bin/mailmail to 755\n",
            "  changing mode of /usr/local/bin/pyhtmlizer to 755\n",
            "  changing mode of /usr/local/bin/tkconch to 755\n",
            "  changing mode of /usr/local/bin/trial to 755\n",
            "  changing mode of /usr/local/bin/twist to 755\n",
            "  changing mode of /usr/local/bin/twistd to 755\n",
            "  changing mode of /usr/local/bin/wamp to 755\n",
            "Successfully installed Twisted-25.5.0 autobahn-19.11.2 automat-25.4.16 constantly-23.10.4 hyperlink-21.0.0 incremental-24.7.2 kiteconnect-5.0.1 service-identity-24.2.0 txaio-25.6.1 zope.interface-7.2\n"
          ]
        }
      ]
    },
    {
      "cell_type": "code",
      "metadata": {
        "colab": {
          "base_uri": "https://localhost:8080/"
        },
        "id": "cb4b74f9",
        "outputId": "39623438-5796-4896-b94e-b7aaa3ff24db"
      },
      "source": [
        "!pip install --upgrade pyalgotrading"
      ],
      "execution_count": 8,
      "outputs": [
        {
          "output_type": "stream",
          "name": "stdout",
          "text": [
            "Requirement already satisfied: pyalgotrading in /usr/local/lib/python3.11/dist-packages (2025.3.1)\n",
            "Requirement already satisfied: requests>=2.24.0 in /usr/local/lib/python3.11/dist-packages (from pyalgotrading) (2.32.3)\n",
            "Requirement already satisfied: pandas>=0.25.3 in /usr/local/lib/python3.11/dist-packages (from pyalgotrading) (2.2.2)\n",
            "Requirement already satisfied: numpy>=1.23.2 in /usr/local/lib/python3.11/dist-packages (from pandas>=0.25.3->pyalgotrading) (2.0.2)\n",
            "Requirement already satisfied: python-dateutil>=2.8.2 in /usr/local/lib/python3.11/dist-packages (from pandas>=0.25.3->pyalgotrading) (2.9.0.post0)\n",
            "Requirement already satisfied: pytz>=2020.1 in /usr/local/lib/python3.11/dist-packages (from pandas>=0.25.3->pyalgotrading) (2025.2)\n",
            "Requirement already satisfied: tzdata>=2022.7 in /usr/local/lib/python3.11/dist-packages (from pandas>=0.25.3->pyalgotrading) (2025.2)\n",
            "Requirement already satisfied: charset-normalizer<4,>=2 in /usr/local/lib/python3.11/dist-packages (from requests>=2.24.0->pyalgotrading) (3.4.2)\n",
            "Requirement already satisfied: idna<4,>=2.5 in /usr/local/lib/python3.11/dist-packages (from requests>=2.24.0->pyalgotrading) (3.10)\n",
            "Requirement already satisfied: urllib3<3,>=1.21.1 in /usr/local/lib/python3.11/dist-packages (from requests>=2.24.0->pyalgotrading) (2.4.0)\n",
            "Requirement already satisfied: certifi>=2017.4.17 in /usr/local/lib/python3.11/dist-packages (from requests>=2.24.0->pyalgotrading) (2025.6.15)\n",
            "Requirement already satisfied: six>=1.5 in /usr/local/lib/python3.11/dist-packages (from python-dateutil>=2.8.2->pandas>=0.25.3->pyalgotrading) (1.17.0)\n"
          ]
        }
      ]
    }
  ],
  "metadata": {
    "kernelspec": {
      "display_name": "Python 3",
      "language": "python",
      "name": "python3"
    },
    "language_info": {
      "codemirror_mode": {
        "name": "ipython",
        "version": 3
      },
      "file_extension": ".py",
      "mimetype": "text/x-python",
      "name": "python",
      "nbconvert_exporter": "python",
      "pygments_lexer": "ipython3",
      "version": "3.8.2"
    },
    "colab": {
      "provenance": []
    }
  },
  "nbformat": 4,
  "nbformat_minor": 0
}