{
  "nbformat": 4,
  "nbformat_minor": 0,
  "metadata": {
    "colab": {
      "provenance": [],
      "authorship_tag": "ABX9TyOmLteUBTsTJq47tcFNjiex",
      "include_colab_link": true
    },
    "kernelspec": {
      "name": "python3",
      "display_name": "Python 3"
    },
    "language_info": {
      "name": "python"
    }
  },
  "cells": [
    {
      "cell_type": "markdown",
      "metadata": {
        "id": "view-in-github",
        "colab_type": "text"
      },
      "source": [
        "<a href=\"https://colab.research.google.com/github/SankirthGunnam/FastAI/blob/main/numpy_tutor.ipynb\" target=\"_parent\"><img src=\"https://colab.research.google.com/assets/colab-badge.svg\" alt=\"Open In Colab\"/></a>"
      ]
    },
    {
      "cell_type": "code",
      "source": [
        "import numpy as np"
      ],
      "metadata": {
        "id": "eT7Q2rKmSZ3U"
      },
      "execution_count": 70,
      "outputs": []
    },
    {
      "cell_type": "markdown",
      "source": [
        "### 1D Array (Vector)"
      ],
      "metadata": {
        "id": "BElRLiNHSg6n"
      }
    },
    {
      "cell_type": "code",
      "source": [
        "mylist = [1,2,3,4,5]\n",
        "arr = np.array(mylist)\n",
        "arr"
      ],
      "metadata": {
        "colab": {
          "base_uri": "https://localhost:8080/"
        },
        "id": "2p8BoPHnSc5o",
        "outputId": "988bbd10-912f-485c-9b50-da633585de10"
      },
      "execution_count": 71,
      "outputs": [
        {
          "output_type": "execute_result",
          "data": {
            "text/plain": [
              "array([1, 2, 3, 4, 5])"
            ]
          },
          "metadata": {},
          "execution_count": 71
        }
      ]
    },
    {
      "cell_type": "code",
      "source": [
        "print(arr.shape)\n",
        "print(arr.ndim)\n",
        "print(arr.dtype)"
      ],
      "metadata": {
        "colab": {
          "base_uri": "https://localhost:8080/"
        },
        "id": "pnwNlbSgSwyL",
        "outputId": "4fb52ca7-c104-4a2d-81ac-edcdc47e9320"
      },
      "execution_count": 72,
      "outputs": [
        {
          "output_type": "stream",
          "name": "stdout",
          "text": [
            "(5,)\n",
            "1\n",
            "int64\n"
          ]
        }
      ]
    },
    {
      "cell_type": "code",
      "source": [
        "# 2D array\n",
        "a2 = [[1,2,3], [4,5,6]]\n",
        "a2 = np.array(a2)\n",
        "print(a2, a2.shape, a2.dtype, a2.ndim, sep=', ')"
      ],
      "metadata": {
        "colab": {
          "base_uri": "https://localhost:8080/"
        },
        "id": "X1TeQAXMTSsD",
        "outputId": "9c8403b5-f323-48a6-e146-06e5d0ae8795"
      },
      "execution_count": 103,
      "outputs": [
        {
          "output_type": "stream",
          "name": "stdout",
          "text": [
            "[[1 2 3]\n",
            " [4 5 6]], (2, 3), int64, 2\n"
          ]
        }
      ]
    },
    {
      "cell_type": "code",
      "source": [
        "zrs = np.zeros((2,3))\n",
        "zrs"
      ],
      "metadata": {
        "colab": {
          "base_uri": "https://localhost:8080/"
        },
        "id": "fJ_pfm9fUCdg",
        "outputId": "742854ab-959d-404b-c969-a60e2587fa6b"
      },
      "execution_count": 74,
      "outputs": [
        {
          "output_type": "execute_result",
          "data": {
            "text/plain": [
              "array([[0., 0., 0.],\n",
              "       [0., 0., 0.]])"
            ]
          },
          "metadata": {},
          "execution_count": 74
        }
      ]
    },
    {
      "cell_type": "code",
      "source": [
        "a3 = np.full((2,3), 1)\n",
        "a3"
      ],
      "metadata": {
        "colab": {
          "base_uri": "https://localhost:8080/"
        },
        "id": "YyOfMEi_UqBg",
        "outputId": "ab23ffb6-d33d-4f7f-e459-2094d137b2ad"
      },
      "execution_count": 75,
      "outputs": [
        {
          "output_type": "execute_result",
          "data": {
            "text/plain": [
              "array([[1, 1, 1],\n",
              "       [1, 1, 1]])"
            ]
          },
          "metadata": {},
          "execution_count": 75
        }
      ]
    },
    {
      "cell_type": "code",
      "source": [
        "# Fill size can be scaler or vector, if vector should match the row size\n",
        "# For ex: np.full((2,5), <should be scaler or vector of length 5>)\n",
        "a3 = np.full((2,5), 1)\n",
        "print(a3)\n",
        "a4 = np.full((2,5), [1,2,3,4,5])\n",
        "print(a4)"
      ],
      "metadata": {
        "colab": {
          "base_uri": "https://localhost:8080/"
        },
        "id": "1w9DUtqvXIWk",
        "outputId": "9f501eba-1388-4e78-fae5-87f76f1a49ee"
      },
      "execution_count": 76,
      "outputs": [
        {
          "output_type": "stream",
          "name": "stdout",
          "text": [
            "[[1 1 1 1 1]\n",
            " [1 1 1 1 1]]\n",
            "[[1 2 3 4 5]\n",
            " [1 2 3 4 5]]\n"
          ]
        }
      ]
    },
    {
      "cell_type": "code",
      "source": [
        "# Below will throw an error\n",
        "# a5 = np.full((2,5), [1,2])"
      ],
      "metadata": {
        "id": "OtV9EKYCYIMO"
      },
      "execution_count": 77,
      "outputs": []
    },
    {
      "cell_type": "markdown",
      "source": [
        "---------------------------------------------------------------------------\n",
        "ValueError                                Traceback (most recent call last)\n",
        "/tmp/ipython-input-48-1049343758.py in <cell line: 0>()\n",
        "      1 # Below will throw an error\n",
        "----> 2 a5 = np.full((2,5), [1,2])\n",
        "\n",
        "/usr/local/lib/python3.11/dist-packages/numpy/_core/numeric.py in full(shape, fill_value, dtype, order, device, like)\n",
        "    360         dtype = fill_value.dtype\n",
        "    361     a = empty(shape, dtype, order, device=device)\n",
        "--> 362     multiarray.copyto(a, fill_value, casting='unsafe')\n",
        "    363     return a\n",
        "    364\n",
        "\n",
        "ValueError: could not broadcast input array from shape (2,) into shape (2,5)"
      ],
      "metadata": {
        "id": "ymMaQTlxYb3l"
      }
    },
    {
      "cell_type": "code",
      "source": [
        "ar = np.arange(10)\n",
        "print(ar)\n",
        "ar2 = np.arange(5, 10)\n",
        "print(ar2)\n",
        "ar3 = np.arange(1, 10, 3)\n",
        "print(ar3)"
      ],
      "metadata": {
        "colab": {
          "base_uri": "https://localhost:8080/"
        },
        "id": "KioZ3ImCYqxE",
        "outputId": "bea8f161-18e2-4530-f768-33cb3b061eb6"
      },
      "execution_count": 78,
      "outputs": [
        {
          "output_type": "stream",
          "name": "stdout",
          "text": [
            "[0 1 2 3 4 5 6 7 8 9]\n",
            "[5 6 7 8 9]\n",
            "[1 4 7]\n"
          ]
        }
      ]
    },
    {
      "cell_type": "code",
      "source": [
        "a2 = np.vstack([a2, [10,11,12]])\n",
        "print(a2)\n",
        "print('value at 0,0 is {}, and at 0, 1 is {}'.format(a2[0, 0], a2[0,1]))\n",
        "print(a2[0,:]) # First row\n",
        "print(a2[-1,:]) # Last row\n",
        "print(a2[0:1,:])"
      ],
      "metadata": {
        "id": "cBXo8YweZEmN",
        "colab": {
          "base_uri": "https://localhost:8080/"
        },
        "outputId": "eb81cbd6-be8e-426a-abf3-32fd857474cf"
      },
      "execution_count": 104,
      "outputs": [
        {
          "output_type": "stream",
          "name": "stdout",
          "text": [
            "[[ 1  2  3]\n",
            " [ 4  5  6]\n",
            " [10 11 12]]\n",
            "value at 0,0 is 1, and at 0, 1 is 2\n",
            "[1 2 3]\n",
            "[10 11 12]\n",
            "[[1 2 3]]\n"
          ]
        }
      ]
    },
    {
      "cell_type": "code",
      "source": [
        "print(a2[1], a2[-1]) # indexing\n",
        "print(a2[0:1]) # slicing\n",
        "print(a2[-2:]) # slicing last two rows\n",
        "print(a2[0, :][a2[0, :] > 2])"
      ],
      "metadata": {
        "colab": {
          "base_uri": "https://localhost:8080/"
        },
        "id": "UmFoN5gImz9x",
        "outputId": "931b0c57-43ce-4c3a-8f7d-7f2e943dfab6"
      },
      "execution_count": 111,
      "outputs": [
        {
          "output_type": "stream",
          "name": "stdout",
          "text": [
            "[4 5 6] [10 11 12]\n",
            "[[1 2 3]]\n",
            "[[ 4  5  6]\n",
            " [10 11 12]]\n",
            "[3]\n"
          ]
        }
      ]
    }
  ]
}