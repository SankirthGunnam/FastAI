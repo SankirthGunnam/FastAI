{
  "nbformat": 4,
  "nbformat_minor": 0,
  "metadata": {
    "colab": {
      "provenance": [],
      "authorship_tag": "ABX9TyN1o0UnA/d1EW8153UlEsKm",
      "include_colab_link": true
    },
    "kernelspec": {
      "name": "python3",
      "display_name": "Python 3"
    },
    "language_info": {
      "name": "python"
    }
  },
  "cells": [
    {
      "cell_type": "markdown",
      "metadata": {
        "id": "view-in-github",
        "colab_type": "text"
      },
      "source": [
        "<a href=\"https://colab.research.google.com/github/SankirthGunnam/FastAI/blob/main/numpy_tutor.ipynb\" target=\"_parent\"><img src=\"https://colab.research.google.com/assets/colab-badge.svg\" alt=\"Open In Colab\"/></a>"
      ]
    },
    {
      "cell_type": "code",
      "execution_count": 1,
      "metadata": {
        "colab": {
          "base_uri": "https://localhost:8080/"
        },
        "id": "ad_4bMaJSUP5",
        "outputId": "8ee5a018-aac0-4b33-fa0c-a57264c712a3"
      },
      "outputs": [
        {
          "output_type": "stream",
          "name": "stdout",
          "text": [
            "Requirement already satisfied: numpy in /usr/local/lib/python3.11/dist-packages (2.0.2)\n"
          ]
        }
      ],
      "source": [
        "!pip install numpy"
      ]
    },
    {
      "cell_type": "code",
      "source": [
        "import numpy as np"
      ],
      "metadata": {
        "id": "eT7Q2rKmSZ3U"
      },
      "execution_count": 2,
      "outputs": []
    },
    {
      "cell_type": "markdown",
      "source": [
        "### 1D Array (Vector)"
      ],
      "metadata": {
        "id": "BElRLiNHSg6n"
      }
    },
    {
      "cell_type": "code",
      "source": [
        "mylist = [1,2,3,4,5]\n",
        "arr = np.array(mylist)\n",
        "arr"
      ],
      "metadata": {
        "colab": {
          "base_uri": "https://localhost:8080/"
        },
        "id": "2p8BoPHnSc5o",
        "outputId": "dd901297-fdb4-4339-ef5e-1876e7fd9475"
      },
      "execution_count": 13,
      "outputs": [
        {
          "output_type": "execute_result",
          "data": {
            "text/plain": [
              "array([1, 2, 3, 4, 5])"
            ]
          },
          "metadata": {},
          "execution_count": 13
        }
      ]
    },
    {
      "cell_type": "code",
      "source": [
        "print(arr.shape)\n",
        "print(arr.ndim)\n",
        "print(arr.dtype)"
      ],
      "metadata": {
        "colab": {
          "base_uri": "https://localhost:8080/"
        },
        "id": "pnwNlbSgSwyL",
        "outputId": "7627e29f-04bd-4d26-848b-0a2afcb5f0f3"
      },
      "execution_count": 14,
      "outputs": [
        {
          "output_type": "stream",
          "name": "stdout",
          "text": [
            "(5,)\n",
            "1\n",
            "int64\n"
          ]
        }
      ]
    },
    {
      "cell_type": "code",
      "source": [
        "# 2D array\n",
        "arr2 = [[1,2,3], [4,5,6]]\n",
        "arr2 = np.array(arr2)\n",
        "print(arr2, arr2.shape, arr2.dtype, arr2.ndim, sep=', ')"
      ],
      "metadata": {
        "colab": {
          "base_uri": "https://localhost:8080/"
        },
        "id": "X1TeQAXMTSsD",
        "outputId": "dbff4134-94b4-4077-b43a-4c9006109ad5"
      },
      "execution_count": 20,
      "outputs": [
        {
          "output_type": "stream",
          "name": "stdout",
          "text": [
            "[[1 2 3]\n",
            " [4 5 6]], (2, 3), int64, 2\n"
          ]
        }
      ]
    },
    {
      "cell_type": "code",
      "source": [
        "zrs = np.zeros((2,3))\n",
        "zrs"
      ],
      "metadata": {
        "colab": {
          "base_uri": "https://localhost:8080/"
        },
        "id": "fJ_pfm9fUCdg",
        "outputId": "80fdc893-f3d1-4ad1-e186-82aa27659110"
      },
      "execution_count": 24,
      "outputs": [
        {
          "output_type": "execute_result",
          "data": {
            "text/plain": [
              "array([[0., 0., 0.],\n",
              "       [0., 0., 0.]])"
            ]
          },
          "metadata": {},
          "execution_count": 24
        }
      ]
    },
    {
      "cell_type": "code",
      "source": [
        "a3 = np.full((2,3), 1)\n",
        "a3"
      ],
      "metadata": {
        "colab": {
          "base_uri": "https://localhost:8080/"
        },
        "id": "YyOfMEi_UqBg",
        "outputId": "e8860be3-46ea-47c1-bc46-dde8f2184304"
      },
      "execution_count": 28,
      "outputs": [
        {
          "output_type": "execute_result",
          "data": {
            "text/plain": [
              "array([[1, 1, 1],\n",
              "       [1, 1, 1]])"
            ]
          },
          "metadata": {},
          "execution_count": 28
        }
      ]
    },
    {
      "cell_type": "code",
      "source": [
        "# Fill size can be scaler or vector, if vector should match the row size\n",
        "# For ex: np.full((2,5), <should be scaler or vector of length 5>)\n",
        "a3 = np.full((2,5), 1)\n",
        "print(a3)\n",
        "a4 = np.full((2,5), [1,2,3,4,5])\n",
        "print(a4)"
      ],
      "metadata": {
        "colab": {
          "base_uri": "https://localhost:8080/"
        },
        "id": "1w9DUtqvXIWk",
        "outputId": "e177342e-83de-4ef1-dfe4-0b7f4290e0b3"
      },
      "execution_count": 46,
      "outputs": [
        {
          "output_type": "stream",
          "name": "stdout",
          "text": [
            "[[1 1 1 1 1]\n",
            " [1 1 1 1 1]]\n",
            "[[1 2 3 4 5]\n",
            " [1 2 3 4 5]]\n"
          ]
        }
      ]
    },
    {
      "cell_type": "code",
      "source": [
        "# Below will throw an error\n",
        "# a5 = np.full((2,5), [1,2])"
      ],
      "metadata": {
        "id": "OtV9EKYCYIMO"
      },
      "execution_count": 50,
      "outputs": []
    },
    {
      "cell_type": "markdown",
      "source": [
        "---------------------------------------------------------------------------\n",
        "ValueError                                Traceback (most recent call last)\n",
        "/tmp/ipython-input-48-1049343758.py in <cell line: 0>()\n",
        "      1 # Below will throw an error\n",
        "----> 2 a5 = np.full((2,5), [1,2])\n",
        "\n",
        "/usr/local/lib/python3.11/dist-packages/numpy/_core/numeric.py in full(shape, fill_value, dtype, order, device, like)\n",
        "    360         dtype = fill_value.dtype\n",
        "    361     a = empty(shape, dtype, order, device=device)\n",
        "--> 362     multiarray.copyto(a, fill_value, casting='unsafe')\n",
        "    363     return a\n",
        "    364\n",
        "\n",
        "ValueError: could not broadcast input array from shape (2,) into shape (2,5)"
      ],
      "metadata": {
        "id": "ymMaQTlxYb3l"
      }
    },
    {
      "cell_type": "code",
      "source": [
        "ar = np.arange(10)\n",
        "print(ar)\n",
        "ar2 = np.arange(5, 10)\n",
        "print(ar2)\n",
        "ar3 = np.arange(1, 10, 3)\n",
        "print(ar3)"
      ],
      "metadata": {
        "colab": {
          "base_uri": "https://localhost:8080/"
        },
        "id": "KioZ3ImCYqxE",
        "outputId": "3b5063d7-283b-40cc-f8c6-313398ed566c"
      },
      "execution_count": 59,
      "outputs": [
        {
          "output_type": "stream",
          "name": "stdout",
          "text": [
            "[0 1 2 3 4 5 6 7 8 9]\n",
            "[5 6 7 8 9]\n",
            "[1 4 7]\n"
          ]
        }
      ]
    },
    {
      "cell_type": "code",
      "source": [],
      "metadata": {
        "id": "cBXo8YweZEmN"
      },
      "execution_count": null,
      "outputs": []
    }
  ]
}